{
 "cells": [
  {
   "cell_type": "code",
   "execution_count": 1,
   "metadata": {},
   "outputs": [
    {
     "name": "stdout",
     "output_type": "stream",
     "text": [
      "[1]\n"
     ]
    }
   ],
   "source": [
    "from sklearn import tree\n",
    "features = [[140, 1], [130, 1], [150, 0], [170, 0]]\n",
    "labels = [0, 0, 1, 1]\n",
    "clf = tree.DecisionTreeClassifier()\n",
    "clf = clf.fit(features, labels)\n",
    "print(clf.predict([[150, 0]]))"
   ]
  },
  {
   "cell_type": "code",
   "execution_count": 2,
   "metadata": {},
   "outputs": [],
   "source": [
    "from sklearn.datasets import load_iris"
   ]
  },
  {
   "cell_type": "code",
   "execution_count": 3,
   "metadata": {},
   "outputs": [],
   "source": [
    "iris = load_iris()"
   ]
  },
  {
   "cell_type": "code",
   "execution_count": 5,
   "metadata": {},
   "outputs": [
    {
     "name": "stdout",
     "output_type": "stream",
     "text": [
      "['sepal length (cm)', 'sepal width (cm)', 'petal length (cm)', 'petal width (cm)']\n"
     ]
    }
   ],
   "source": [
    "print(iris.feature_names)"
   ]
  },
  {
   "cell_type": "code",
   "execution_count": 6,
   "metadata": {},
   "outputs": [
    {
     "name": "stdout",
     "output_type": "stream",
     "text": [
      "['setosa' 'versicolor' 'virginica']\n"
     ]
    }
   ],
   "source": [
    "print(iris.target_names)"
   ]
  },
  {
   "cell_type": "code",
   "execution_count": 7,
   "metadata": {},
   "outputs": [
    {
     "name": "stdout",
     "output_type": "stream",
     "text": [
      "{'data': array([[5.1, 3.5, 1.4, 0.2],\n",
      "       [4.9, 3. , 1.4, 0.2],\n",
      "       [4.7, 3.2, 1.3, 0.2],\n",
      "       [4.6, 3.1, 1.5, 0.2],\n",
      "       [5. , 3.6, 1.4, 0.2],\n",
      "       [5.4, 3.9, 1.7, 0.4],\n",
      "       [4.6, 3.4, 1.4, 0.3],\n",
      "       [5. , 3.4, 1.5, 0.2],\n",
      "       [4.4, 2.9, 1.4, 0.2],\n",
      "       [4.9, 3.1, 1.5, 0.1],\n",
      "       [5.4, 3.7, 1.5, 0.2],\n",
      "       [4.8, 3.4, 1.6, 0.2],\n",
      "       [4.8, 3. , 1.4, 0.1],\n",
      "       [4.3, 3. , 1.1, 0.1],\n",
      "       [5.8, 4. , 1.2, 0.2],\n",
      "       [5.7, 4.4, 1.5, 0.4],\n",
      "       [5.4, 3.9, 1.3, 0.4],\n",
      "       [5.1, 3.5, 1.4, 0.3],\n",
      "       [5.7, 3.8, 1.7, 0.3],\n",
      "       [5.1, 3.8, 1.5, 0.3],\n",
      "       [5.4, 3.4, 1.7, 0.2],\n",
      "       [5.1, 3.7, 1.5, 0.4],\n",
      "       [4.6, 3.6, 1. , 0.2],\n",
      "       [5.1, 3.3, 1.7, 0.5],\n",
      "       [4.8, 3.4, 1.9, 0.2],\n",
      "       [5. , 3. , 1.6, 0.2],\n",
      "       [5. , 3.4, 1.6, 0.4],\n",
      "       [5.2, 3.5, 1.5, 0.2],\n",
      "       [5.2, 3.4, 1.4, 0.2],\n",
      "       [4.7, 3.2, 1.6, 0.2],\n",
      "       [4.8, 3.1, 1.6, 0.2],\n",
      "       [5.4, 3.4, 1.5, 0.4],\n",
      "       [5.2, 4.1, 1.5, 0.1],\n",
      "       [5.5, 4.2, 1.4, 0.2],\n",
      "       [4.9, 3.1, 1.5, 0.2],\n",
      "       [5. , 3.2, 1.2, 0.2],\n",
      "       [5.5, 3.5, 1.3, 0.2],\n",
      "       [4.9, 3.6, 1.4, 0.1],\n",
      "       [4.4, 3. , 1.3, 0.2],\n",
      "       [5.1, 3.4, 1.5, 0.2],\n",
      "       [5. , 3.5, 1.3, 0.3],\n",
      "       [4.5, 2.3, 1.3, 0.3],\n",
      "       [4.4, 3.2, 1.3, 0.2],\n",
      "       [5. , 3.5, 1.6, 0.6],\n",
      "       [5.1, 3.8, 1.9, 0.4],\n",
      "       [4.8, 3. , 1.4, 0.3],\n",
      "       [5.1, 3.8, 1.6, 0.2],\n",
      "       [4.6, 3.2, 1.4, 0.2],\n",
      "       [5.3, 3.7, 1.5, 0.2],\n",
      "       [5. , 3.3, 1.4, 0.2],\n",
      "       [7. , 3.2, 4.7, 1.4],\n",
      "       [6.4, 3.2, 4.5, 1.5],\n",
      "       [6.9, 3.1, 4.9, 1.5],\n",
      "       [5.5, 2.3, 4. , 1.3],\n",
      "       [6.5, 2.8, 4.6, 1.5],\n",
      "       [5.7, 2.8, 4.5, 1.3],\n",
      "       [6.3, 3.3, 4.7, 1.6],\n",
      "       [4.9, 2.4, 3.3, 1. ],\n",
      "       [6.6, 2.9, 4.6, 1.3],\n",
      "       [5.2, 2.7, 3.9, 1.4],\n",
      "       [5. , 2. , 3.5, 1. ],\n",
      "       [5.9, 3. , 4.2, 1.5],\n",
      "       [6. , 2.2, 4. , 1. ],\n",
      "       [6.1, 2.9, 4.7, 1.4],\n",
      "       [5.6, 2.9, 3.6, 1.3],\n",
      "       [6.7, 3.1, 4.4, 1.4],\n",
      "       [5.6, 3. , 4.5, 1.5],\n",
      "       [5.8, 2.7, 4.1, 1. ],\n",
      "       [6.2, 2.2, 4.5, 1.5],\n",
      "       [5.6, 2.5, 3.9, 1.1],\n",
      "       [5.9, 3.2, 4.8, 1.8],\n",
      "       [6.1, 2.8, 4. , 1.3],\n",
      "       [6.3, 2.5, 4.9, 1.5],\n",
      "       [6.1, 2.8, 4.7, 1.2],\n",
      "       [6.4, 2.9, 4.3, 1.3],\n",
      "       [6.6, 3. , 4.4, 1.4],\n",
      "       [6.8, 2.8, 4.8, 1.4],\n",
      "       [6.7, 3. , 5. , 1.7],\n",
      "       [6. , 2.9, 4.5, 1.5],\n",
      "       [5.7, 2.6, 3.5, 1. ],\n",
      "       [5.5, 2.4, 3.8, 1.1],\n",
      "       [5.5, 2.4, 3.7, 1. ],\n",
      "       [5.8, 2.7, 3.9, 1.2],\n",
      "       [6. , 2.7, 5.1, 1.6],\n",
      "       [5.4, 3. , 4.5, 1.5],\n",
      "       [6. , 3.4, 4.5, 1.6],\n",
      "       [6.7, 3.1, 4.7, 1.5],\n",
      "       [6.3, 2.3, 4.4, 1.3],\n",
      "       [5.6, 3. , 4.1, 1.3],\n",
      "       [5.5, 2.5, 4. , 1.3],\n",
      "       [5.5, 2.6, 4.4, 1.2],\n",
      "       [6.1, 3. , 4.6, 1.4],\n",
      "       [5.8, 2.6, 4. , 1.2],\n",
      "       [5. , 2.3, 3.3, 1. ],\n",
      "       [5.6, 2.7, 4.2, 1.3],\n",
      "       [5.7, 3. , 4.2, 1.2],\n",
      "       [5.7, 2.9, 4.2, 1.3],\n",
      "       [6.2, 2.9, 4.3, 1.3],\n",
      "       [5.1, 2.5, 3. , 1.1],\n",
      "       [5.7, 2.8, 4.1, 1.3],\n",
      "       [6.3, 3.3, 6. , 2.5],\n",
      "       [5.8, 2.7, 5.1, 1.9],\n",
      "       [7.1, 3. , 5.9, 2.1],\n",
      "       [6.3, 2.9, 5.6, 1.8],\n",
      "       [6.5, 3. , 5.8, 2.2],\n",
      "       [7.6, 3. , 6.6, 2.1],\n",
      "       [4.9, 2.5, 4.5, 1.7],\n",
      "       [7.3, 2.9, 6.3, 1.8],\n",
      "       [6.7, 2.5, 5.8, 1.8],\n",
      "       [7.2, 3.6, 6.1, 2.5],\n",
      "       [6.5, 3.2, 5.1, 2. ],\n",
      "       [6.4, 2.7, 5.3, 1.9],\n",
      "       [6.8, 3. , 5.5, 2.1],\n",
      "       [5.7, 2.5, 5. , 2. ],\n",
      "       [5.8, 2.8, 5.1, 2.4],\n",
      "       [6.4, 3.2, 5.3, 2.3],\n",
      "       [6.5, 3. , 5.5, 1.8],\n",
      "       [7.7, 3.8, 6.7, 2.2],\n",
      "       [7.7, 2.6, 6.9, 2.3],\n",
      "       [6. , 2.2, 5. , 1.5],\n",
      "       [6.9, 3.2, 5.7, 2.3],\n",
      "       [5.6, 2.8, 4.9, 2. ],\n",
      "       [7.7, 2.8, 6.7, 2. ],\n",
      "       [6.3, 2.7, 4.9, 1.8],\n",
      "       [6.7, 3.3, 5.7, 2.1],\n",
      "       [7.2, 3.2, 6. , 1.8],\n",
      "       [6.2, 2.8, 4.8, 1.8],\n",
      "       [6.1, 3. , 4.9, 1.8],\n",
      "       [6.4, 2.8, 5.6, 2.1],\n",
      "       [7.2, 3. , 5.8, 1.6],\n",
      "       [7.4, 2.8, 6.1, 1.9],\n",
      "       [7.9, 3.8, 6.4, 2. ],\n",
      "       [6.4, 2.8, 5.6, 2.2],\n",
      "       [6.3, 2.8, 5.1, 1.5],\n",
      "       [6.1, 2.6, 5.6, 1.4],\n",
      "       [7.7, 3. , 6.1, 2.3],\n",
      "       [6.3, 3.4, 5.6, 2.4],\n",
      "       [6.4, 3.1, 5.5, 1.8],\n",
      "       [6. , 3. , 4.8, 1.8],\n",
      "       [6.9, 3.1, 5.4, 2.1],\n",
      "       [6.7, 3.1, 5.6, 2.4],\n",
      "       [6.9, 3.1, 5.1, 2.3],\n",
      "       [5.8, 2.7, 5.1, 1.9],\n",
      "       [6.8, 3.2, 5.9, 2.3],\n",
      "       [6.7, 3.3, 5.7, 2.5],\n",
      "       [6.7, 3. , 5.2, 2.3],\n",
      "       [6.3, 2.5, 5. , 1.9],\n",
      "       [6.5, 3. , 5.2, 2. ],\n",
      "       [6.2, 3.4, 5.4, 2.3],\n",
      "       [5.9, 3. , 5.1, 1.8]]), 'target': array([0, 0, 0, 0, 0, 0, 0, 0, 0, 0, 0, 0, 0, 0, 0, 0, 0, 0, 0, 0, 0, 0,\n",
      "       0, 0, 0, 0, 0, 0, 0, 0, 0, 0, 0, 0, 0, 0, 0, 0, 0, 0, 0, 0, 0, 0,\n",
      "       0, 0, 0, 0, 0, 0, 1, 1, 1, 1, 1, 1, 1, 1, 1, 1, 1, 1, 1, 1, 1, 1,\n",
      "       1, 1, 1, 1, 1, 1, 1, 1, 1, 1, 1, 1, 1, 1, 1, 1, 1, 1, 1, 1, 1, 1,\n",
      "       1, 1, 1, 1, 1, 1, 1, 1, 1, 1, 1, 1, 2, 2, 2, 2, 2, 2, 2, 2, 2, 2,\n",
      "       2, 2, 2, 2, 2, 2, 2, 2, 2, 2, 2, 2, 2, 2, 2, 2, 2, 2, 2, 2, 2, 2,\n",
      "       2, 2, 2, 2, 2, 2, 2, 2, 2, 2, 2, 2, 2, 2, 2, 2, 2, 2]), 'target_names': array(['setosa', 'versicolor', 'virginica'], dtype='<U10'), 'DESCR': '.. _iris_dataset:\\n\\nIris plants dataset\\n--------------------\\n\\n**Data Set Characteristics:**\\n\\n    :Number of Instances: 150 (50 in each of three classes)\\n    :Number of Attributes: 4 numeric, predictive attributes and the class\\n    :Attribute Information:\\n        - sepal length in cm\\n        - sepal width in cm\\n        - petal length in cm\\n        - petal width in cm\\n        - class:\\n                - Iris-Setosa\\n                - Iris-Versicolour\\n                - Iris-Virginica\\n                \\n    :Summary Statistics:\\n\\n    ============== ==== ==== ======= ===== ====================\\n                    Min  Max   Mean    SD   Class Correlation\\n    ============== ==== ==== ======= ===== ====================\\n    sepal length:   4.3  7.9   5.84   0.83    0.7826\\n    sepal width:    2.0  4.4   3.05   0.43   -0.4194\\n    petal length:   1.0  6.9   3.76   1.76    0.9490  (high!)\\n    petal width:    0.1  2.5   1.20   0.76    0.9565  (high!)\\n    ============== ==== ==== ======= ===== ====================\\n\\n    :Missing Attribute Values: None\\n    :Class Distribution: 33.3% for each of 3 classes.\\n    :Creator: R.A. Fisher\\n    :Donor: Michael Marshall (MARSHALL%PLU@io.arc.nasa.gov)\\n    :Date: July, 1988\\n\\nThe famous Iris database, first used by Sir R.A. Fisher. The dataset is taken\\nfrom Fisher\\'s paper. Note that it\\'s the same as in R, but not as in the UCI\\nMachine Learning Repository, which has two wrong data points.\\n\\nThis is perhaps the best known database to be found in the\\npattern recognition literature.  Fisher\\'s paper is a classic in the field and\\nis referenced frequently to this day.  (See Duda & Hart, for example.)  The\\ndata set contains 3 classes of 50 instances each, where each class refers to a\\ntype of iris plant.  One class is linearly separable from the other 2; the\\nlatter are NOT linearly separable from each other.\\n\\n.. topic:: References\\n\\n   - Fisher, R.A. \"The use of multiple measurements in taxonomic problems\"\\n     Annual Eugenics, 7, Part II, 179-188 (1936); also in \"Contributions to\\n     Mathematical Statistics\" (John Wiley, NY, 1950).\\n   - Duda, R.O., & Hart, P.E. (1973) Pattern Classification and Scene Analysis.\\n     (Q327.D83) John Wiley & Sons.  ISBN 0-471-22361-1.  See page 218.\\n   - Dasarathy, B.V. (1980) \"Nosing Around the Neighborhood: A New System\\n     Structure and Classification Rule for Recognition in Partially Exposed\\n     Environments\".  IEEE Transactions on Pattern Analysis and Machine\\n     Intelligence, Vol. PAMI-2, No. 1, 67-71.\\n   - Gates, G.W. (1972) \"The Reduced Nearest Neighbor Rule\".  IEEE Transactions\\n     on Information Theory, May 1972, 431-433.\\n   - See also: 1988 MLC Proceedings, 54-64.  Cheeseman et al\"s AUTOCLASS II\\n     conceptual clustering system finds 3 classes in the data.\\n   - Many, many more ...', 'feature_names': ['sepal length (cm)', 'sepal width (cm)', 'petal length (cm)', 'petal width (cm)'], 'filename': 'C:\\\\Users\\\\Dell\\\\Anaconda3\\\\lib\\\\site-packages\\\\sklearn\\\\datasets\\\\data\\\\iris.csv'}\n"
     ]
    }
   ],
   "source": [
    "print(iris)"
   ]
  },
  {
   "cell_type": "code",
   "execution_count": 8,
   "metadata": {},
   "outputs": [
    {
     "name": "stdout",
     "output_type": "stream",
     "text": [
      "[5.1 3.5 1.4 0.2]\n"
     ]
    }
   ],
   "source": [
    "print (iris.data[0])"
   ]
  },
  {
   "cell_type": "code",
   "execution_count": 11,
   "metadata": {},
   "outputs": [
    {
     "name": "stdout",
     "output_type": "stream",
     "text": [
      "0\n"
     ]
    }
   ],
   "source": [
    "print (iris.target[0])"
   ]
  },
  {
   "cell_type": "code",
   "execution_count": 12,
   "metadata": {},
   "outputs": [
    {
     "name": "stdout",
     "output_type": "stream",
     "text": [
      "Example 0: label 0, features [5.1 3.5 1.4 0.2]\n",
      "Example 1: label 0, features [4.9 3.  1.4 0.2]\n",
      "Example 2: label 0, features [4.7 3.2 1.3 0.2]\n",
      "Example 3: label 0, features [4.6 3.1 1.5 0.2]\n",
      "Example 4: label 0, features [5.  3.6 1.4 0.2]\n",
      "Example 5: label 0, features [5.4 3.9 1.7 0.4]\n",
      "Example 6: label 0, features [4.6 3.4 1.4 0.3]\n",
      "Example 7: label 0, features [5.  3.4 1.5 0.2]\n",
      "Example 8: label 0, features [4.4 2.9 1.4 0.2]\n",
      "Example 9: label 0, features [4.9 3.1 1.5 0.1]\n",
      "Example 10: label 0, features [5.4 3.7 1.5 0.2]\n",
      "Example 11: label 0, features [4.8 3.4 1.6 0.2]\n",
      "Example 12: label 0, features [4.8 3.  1.4 0.1]\n",
      "Example 13: label 0, features [4.3 3.  1.1 0.1]\n",
      "Example 14: label 0, features [5.8 4.  1.2 0.2]\n",
      "Example 15: label 0, features [5.7 4.4 1.5 0.4]\n",
      "Example 16: label 0, features [5.4 3.9 1.3 0.4]\n",
      "Example 17: label 0, features [5.1 3.5 1.4 0.3]\n",
      "Example 18: label 0, features [5.7 3.8 1.7 0.3]\n",
      "Example 19: label 0, features [5.1 3.8 1.5 0.3]\n",
      "Example 20: label 0, features [5.4 3.4 1.7 0.2]\n",
      "Example 21: label 0, features [5.1 3.7 1.5 0.4]\n",
      "Example 22: label 0, features [4.6 3.6 1.  0.2]\n",
      "Example 23: label 0, features [5.1 3.3 1.7 0.5]\n",
      "Example 24: label 0, features [4.8 3.4 1.9 0.2]\n",
      "Example 25: label 0, features [5.  3.  1.6 0.2]\n",
      "Example 26: label 0, features [5.  3.4 1.6 0.4]\n",
      "Example 27: label 0, features [5.2 3.5 1.5 0.2]\n",
      "Example 28: label 0, features [5.2 3.4 1.4 0.2]\n",
      "Example 29: label 0, features [4.7 3.2 1.6 0.2]\n",
      "Example 30: label 0, features [4.8 3.1 1.6 0.2]\n",
      "Example 31: label 0, features [5.4 3.4 1.5 0.4]\n",
      "Example 32: label 0, features [5.2 4.1 1.5 0.1]\n",
      "Example 33: label 0, features [5.5 4.2 1.4 0.2]\n",
      "Example 34: label 0, features [4.9 3.1 1.5 0.2]\n",
      "Example 35: label 0, features [5.  3.2 1.2 0.2]\n",
      "Example 36: label 0, features [5.5 3.5 1.3 0.2]\n",
      "Example 37: label 0, features [4.9 3.6 1.4 0.1]\n",
      "Example 38: label 0, features [4.4 3.  1.3 0.2]\n",
      "Example 39: label 0, features [5.1 3.4 1.5 0.2]\n",
      "Example 40: label 0, features [5.  3.5 1.3 0.3]\n",
      "Example 41: label 0, features [4.5 2.3 1.3 0.3]\n",
      "Example 42: label 0, features [4.4 3.2 1.3 0.2]\n",
      "Example 43: label 0, features [5.  3.5 1.6 0.6]\n",
      "Example 44: label 0, features [5.1 3.8 1.9 0.4]\n",
      "Example 45: label 0, features [4.8 3.  1.4 0.3]\n",
      "Example 46: label 0, features [5.1 3.8 1.6 0.2]\n",
      "Example 47: label 0, features [4.6 3.2 1.4 0.2]\n",
      "Example 48: label 0, features [5.3 3.7 1.5 0.2]\n",
      "Example 49: label 0, features [5.  3.3 1.4 0.2]\n",
      "Example 50: label 1, features [7.  3.2 4.7 1.4]\n",
      "Example 51: label 1, features [6.4 3.2 4.5 1.5]\n",
      "Example 52: label 1, features [6.9 3.1 4.9 1.5]\n",
      "Example 53: label 1, features [5.5 2.3 4.  1.3]\n",
      "Example 54: label 1, features [6.5 2.8 4.6 1.5]\n",
      "Example 55: label 1, features [5.7 2.8 4.5 1.3]\n",
      "Example 56: label 1, features [6.3 3.3 4.7 1.6]\n",
      "Example 57: label 1, features [4.9 2.4 3.3 1. ]\n",
      "Example 58: label 1, features [6.6 2.9 4.6 1.3]\n",
      "Example 59: label 1, features [5.2 2.7 3.9 1.4]\n",
      "Example 60: label 1, features [5.  2.  3.5 1. ]\n",
      "Example 61: label 1, features [5.9 3.  4.2 1.5]\n",
      "Example 62: label 1, features [6.  2.2 4.  1. ]\n",
      "Example 63: label 1, features [6.1 2.9 4.7 1.4]\n",
      "Example 64: label 1, features [5.6 2.9 3.6 1.3]\n",
      "Example 65: label 1, features [6.7 3.1 4.4 1.4]\n",
      "Example 66: label 1, features [5.6 3.  4.5 1.5]\n",
      "Example 67: label 1, features [5.8 2.7 4.1 1. ]\n",
      "Example 68: label 1, features [6.2 2.2 4.5 1.5]\n",
      "Example 69: label 1, features [5.6 2.5 3.9 1.1]\n",
      "Example 70: label 1, features [5.9 3.2 4.8 1.8]\n",
      "Example 71: label 1, features [6.1 2.8 4.  1.3]\n",
      "Example 72: label 1, features [6.3 2.5 4.9 1.5]\n",
      "Example 73: label 1, features [6.1 2.8 4.7 1.2]\n",
      "Example 74: label 1, features [6.4 2.9 4.3 1.3]\n",
      "Example 75: label 1, features [6.6 3.  4.4 1.4]\n",
      "Example 76: label 1, features [6.8 2.8 4.8 1.4]\n",
      "Example 77: label 1, features [6.7 3.  5.  1.7]\n",
      "Example 78: label 1, features [6.  2.9 4.5 1.5]\n",
      "Example 79: label 1, features [5.7 2.6 3.5 1. ]\n",
      "Example 80: label 1, features [5.5 2.4 3.8 1.1]\n",
      "Example 81: label 1, features [5.5 2.4 3.7 1. ]\n",
      "Example 82: label 1, features [5.8 2.7 3.9 1.2]\n",
      "Example 83: label 1, features [6.  2.7 5.1 1.6]\n",
      "Example 84: label 1, features [5.4 3.  4.5 1.5]\n",
      "Example 85: label 1, features [6.  3.4 4.5 1.6]\n",
      "Example 86: label 1, features [6.7 3.1 4.7 1.5]\n",
      "Example 87: label 1, features [6.3 2.3 4.4 1.3]\n",
      "Example 88: label 1, features [5.6 3.  4.1 1.3]\n",
      "Example 89: label 1, features [5.5 2.5 4.  1.3]\n",
      "Example 90: label 1, features [5.5 2.6 4.4 1.2]\n",
      "Example 91: label 1, features [6.1 3.  4.6 1.4]\n",
      "Example 92: label 1, features [5.8 2.6 4.  1.2]\n",
      "Example 93: label 1, features [5.  2.3 3.3 1. ]\n",
      "Example 94: label 1, features [5.6 2.7 4.2 1.3]\n",
      "Example 95: label 1, features [5.7 3.  4.2 1.2]\n",
      "Example 96: label 1, features [5.7 2.9 4.2 1.3]\n",
      "Example 97: label 1, features [6.2 2.9 4.3 1.3]\n",
      "Example 98: label 1, features [5.1 2.5 3.  1.1]\n",
      "Example 99: label 1, features [5.7 2.8 4.1 1.3]\n",
      "Example 100: label 2, features [6.3 3.3 6.  2.5]\n",
      "Example 101: label 2, features [5.8 2.7 5.1 1.9]\n",
      "Example 102: label 2, features [7.1 3.  5.9 2.1]\n",
      "Example 103: label 2, features [6.3 2.9 5.6 1.8]\n",
      "Example 104: label 2, features [6.5 3.  5.8 2.2]\n",
      "Example 105: label 2, features [7.6 3.  6.6 2.1]\n",
      "Example 106: label 2, features [4.9 2.5 4.5 1.7]\n",
      "Example 107: label 2, features [7.3 2.9 6.3 1.8]\n",
      "Example 108: label 2, features [6.7 2.5 5.8 1.8]\n",
      "Example 109: label 2, features [7.2 3.6 6.1 2.5]\n",
      "Example 110: label 2, features [6.5 3.2 5.1 2. ]\n",
      "Example 111: label 2, features [6.4 2.7 5.3 1.9]\n",
      "Example 112: label 2, features [6.8 3.  5.5 2.1]\n",
      "Example 113: label 2, features [5.7 2.5 5.  2. ]\n",
      "Example 114: label 2, features [5.8 2.8 5.1 2.4]\n",
      "Example 115: label 2, features [6.4 3.2 5.3 2.3]\n",
      "Example 116: label 2, features [6.5 3.  5.5 1.8]\n",
      "Example 117: label 2, features [7.7 3.8 6.7 2.2]\n",
      "Example 118: label 2, features [7.7 2.6 6.9 2.3]\n",
      "Example 119: label 2, features [6.  2.2 5.  1.5]\n",
      "Example 120: label 2, features [6.9 3.2 5.7 2.3]\n",
      "Example 121: label 2, features [5.6 2.8 4.9 2. ]\n",
      "Example 122: label 2, features [7.7 2.8 6.7 2. ]\n",
      "Example 123: label 2, features [6.3 2.7 4.9 1.8]\n",
      "Example 124: label 2, features [6.7 3.3 5.7 2.1]\n",
      "Example 125: label 2, features [7.2 3.2 6.  1.8]\n",
      "Example 126: label 2, features [6.2 2.8 4.8 1.8]\n",
      "Example 127: label 2, features [6.1 3.  4.9 1.8]\n",
      "Example 128: label 2, features [6.4 2.8 5.6 2.1]\n",
      "Example 129: label 2, features [7.2 3.  5.8 1.6]\n",
      "Example 130: label 2, features [7.4 2.8 6.1 1.9]\n",
      "Example 131: label 2, features [7.9 3.8 6.4 2. ]\n",
      "Example 132: label 2, features [6.4 2.8 5.6 2.2]\n",
      "Example 133: label 2, features [6.3 2.8 5.1 1.5]\n",
      "Example 134: label 2, features [6.1 2.6 5.6 1.4]\n",
      "Example 135: label 2, features [7.7 3.  6.1 2.3]\n",
      "Example 136: label 2, features [6.3 3.4 5.6 2.4]\n",
      "Example 137: label 2, features [6.4 3.1 5.5 1.8]\n",
      "Example 138: label 2, features [6.  3.  4.8 1.8]\n",
      "Example 139: label 2, features [6.9 3.1 5.4 2.1]\n",
      "Example 140: label 2, features [6.7 3.1 5.6 2.4]\n",
      "Example 141: label 2, features [6.9 3.1 5.1 2.3]\n",
      "Example 142: label 2, features [5.8 2.7 5.1 1.9]\n",
      "Example 143: label 2, features [6.8 3.2 5.9 2.3]\n",
      "Example 144: label 2, features [6.7 3.3 5.7 2.5]\n",
      "Example 145: label 2, features [6.7 3.  5.2 2.3]\n",
      "Example 146: label 2, features [6.3 2.5 5.  1.9]\n",
      "Example 147: label 2, features [6.5 3.  5.2 2. ]\n",
      "Example 148: label 2, features [6.2 3.4 5.4 2.3]\n",
      "Example 149: label 2, features [5.9 3.  5.1 1.8]\n"
     ]
    }
   ],
   "source": [
    "for i in range(len(iris.target)):\n",
    "    print(\"Example %d: label %s, features %s\" % (i, iris.target[i], iris.data[i]))"
   ]
  },
  {
   "cell_type": "code",
   "execution_count": 13,
   "metadata": {},
   "outputs": [],
   "source": [
    "import numpy as np \n",
    "test_idx = [0, 50, 100]"
   ]
  },
  {
   "cell_type": "code",
   "execution_count": 14,
   "metadata": {},
   "outputs": [],
   "source": [
    "# training data\n",
    "train_target = np.delete(iris.target, test_idx)\n",
    "train_data = np.delete(iris.data, test_idx, axis=0)"
   ]
  },
  {
   "cell_type": "code",
   "execution_count": 15,
   "metadata": {},
   "outputs": [],
   "source": [
    "# testing data\n",
    "test_target = iris.target[test_idx]\n",
    "test_data = iris.data[test_idx]"
   ]
  },
  {
   "cell_type": "code",
   "execution_count": 16,
   "metadata": {},
   "outputs": [
    {
     "data": {
      "text/plain": [
       "DecisionTreeClassifier(class_weight=None, criterion='gini', max_depth=None,\n",
       "            max_features=None, max_leaf_nodes=None,\n",
       "            min_impurity_decrease=0.0, min_impurity_split=None,\n",
       "            min_samples_leaf=1, min_samples_split=2,\n",
       "            min_weight_fraction_leaf=0.0, presort=False, random_state=None,\n",
       "            splitter='best')"
      ]
     },
     "execution_count": 16,
     "metadata": {},
     "output_type": "execute_result"
    }
   ],
   "source": [
    "clf = tree.DecisionTreeClassifier()\n",
    "clf.fit(train_data, train_target)"
   ]
  },
  {
   "cell_type": "code",
   "execution_count": 17,
   "metadata": {},
   "outputs": [
    {
     "name": "stdout",
     "output_type": "stream",
     "text": [
      "[0 1 2]\n"
     ]
    }
   ],
   "source": [
    "print(test_target)"
   ]
  },
  {
   "cell_type": "code",
   "execution_count": 18,
   "metadata": {},
   "outputs": [
    {
     "name": "stdout",
     "output_type": "stream",
     "text": [
      "[0 1 2]\n"
     ]
    }
   ],
   "source": [
    "print (clf.predict(test_data))"
   ]
  },
  {
   "cell_type": "code",
   "execution_count": 24,
   "metadata": {},
   "outputs": [],
   "source": [
    "# viz code\n",
    "from sklearn.externals.six import StringIO\n",
    "import pydot\n",
    "dot_data = StringIO()\n",
    "tree.export_graphviz(clf,\n",
    "                        out_file=dot_data,\n",
    "                    feature_names=iris.feature_names,\n",
    "                    class_names=iris.target_names,\n",
    "                    filled=True, rounded=True,\n",
    "                    impurity=False)"
   ]
  },
  {
   "cell_type": "code",
   "execution_count": 28,
   "metadata": {},
   "outputs": [],
   "source": [
    "graph = pydot.graph_from_dot_data(dot_data.getvalue())\n",
    "graph[0].write_pdf(\"iris.pdf\")"
   ]
  },
  {
   "cell_type": "code",
   "execution_count": 32,
   "metadata": {},
   "outputs": [
    {
     "name": "stdout",
     "output_type": "stream",
     "text": [
      "[6.3 3.3 6.  2.5] 2\n"
     ]
    }
   ],
   "source": [
    "print(test_data[2], test_target[2])"
   ]
  },
  {
   "cell_type": "code",
   "execution_count": null,
   "metadata": {},
   "outputs": [],
   "source": []
  },
  {
   "cell_type": "code",
   "execution_count": null,
   "metadata": {},
   "outputs": [],
   "source": []
  },
  {
   "cell_type": "code",
   "execution_count": 30,
   "metadata": {},
   "outputs": [
    {
     "name": "stdout",
     "output_type": "stream",
     "text": [
      "['sepal length (cm)', 'sepal width (cm)', 'petal length (cm)', 'petal width (cm)'] ['setosa' 'versicolor' 'virginica']\n"
     ]
    }
   ],
   "source": [
    "print(iris.feature_names, iris.target_names)"
   ]
  },
  {
   "cell_type": "code",
   "execution_count": null,
   "metadata": {},
   "outputs": [],
   "source": []
  },
  {
   "cell_type": "code",
   "execution_count": 33,
   "metadata": {},
   "outputs": [],
   "source": [
    "import numpy as np\n",
    "import matplotlib.pyplot as plt"
   ]
  },
  {
   "cell_type": "code",
   "execution_count": 34,
   "metadata": {},
   "outputs": [],
   "source": [
    "greyhounds = 500\n",
    "labs = 500"
   ]
  },
  {
   "cell_type": "code",
   "execution_count": 39,
   "metadata": {},
   "outputs": [],
   "source": [
    "grey_height = 28 + 4 * np.random.randn(greyhounds)\n",
    "lab_height = 24 + 4 * np.random.randn(labs)"
   ]
  },
  {
   "cell_type": "code",
   "execution_count": 55,
   "metadata": {},
   "outputs": [
    {
     "data": {
      "image/png": "[encoded data removed]",
      "text/plain": [
       "<Figure size 432x288 with 1 Axes>"
      ]
     },
     "metadata": {
      "needs_background": "light"
     },
     "output_type": "display_data"
    }
   ],
   "source": [
    "%matplotlib inline\n",
    "# greyhounds in red and labradors in blue\n",
    "plt.hist([grey_height, lab_height], stacked=True, color=['r', 'b'])\n",
    "plt.show();"
   ]
  },
  {
   "cell_type": "code",
   "execution_count": null,
   "metadata": {},
   "outputs": [],
   "source": []
  },
  {
   "cell_type": "code",
   "execution_count": null,
   "metadata": {},
   "outputs": [],
   "source": []
  },
  {
   "cell_type": "code",
   "execution_count": null,
   "metadata": {},
   "outputs": [],
   "source": []
  },
  {
   "cell_type": "code",
   "execution_count": 51,
   "metadata": {},
   "outputs": [
    {
     "name": "stdout",
     "output_type": "stream",
     "text": [
      "[29.23796593 24.90613187 29.69926484 28.02775606 23.47110744 29.43463037\n",
      " 27.31293067 26.62958024 25.62948433 21.32746899 24.50801203 28.21952869\n",
      " 28.88196373 27.53339514 23.07342438 28.03086362 20.84666461 26.09336661\n",
      " 24.19057725 28.30222106 27.12990663 36.46324737 27.05990646 20.23962443\n",
      " 31.2377266  28.6546117  22.97419216 29.35692637 25.84645889 27.81220287\n",
      " 32.42800016 32.72814897 36.06016445 30.45921733 22.36057147 27.44844755\n",
      " 24.62288994 24.51739831 24.44141008 26.56189404 24.3588205  29.84750256\n",
      " 25.69454244 25.38280098 24.61412654 25.97533091 26.76823681 24.50771976\n",
      " 27.42300627 30.79499865 24.4350592  25.77485238 24.75308434 29.59558409\n",
      " 23.00805332 32.172378   29.81864495 24.48600816 25.67350693 29.51600109\n",
      " 26.71657225 27.74973915 34.28048343 32.55038641 31.43777786 28.91713031\n",
      " 31.8228785  28.70210558 31.6951611  30.94065115 26.13950331 22.597823\n",
      " 26.01389555 37.12150287 27.18441773 27.79584654 17.97809989 29.75765186\n",
      " 26.59913256 27.58275157 27.54789679 28.77299532 28.51968184 32.95189807\n",
      " 25.53609209 32.05444133 22.66172022 32.00906717 30.01387366 29.79299384\n",
      " 32.35519588 21.65803094 26.19199    26.82578013 29.08867788 19.59741255\n",
      " 27.76615711 34.5348159  36.58634019 28.22864649 31.68805777 25.74968588\n",
      " 26.36003863 31.37624283 26.94321574 32.54580511 24.80374251 23.05542692\n",
      " 28.17500374 24.18779045 28.5482033  34.40681067 26.49894525 25.42181909\n",
      " 28.30275837 23.52771725 29.91007904 23.36649956 32.99703905 26.35337792\n",
      " 25.56600883 29.29714554 27.8519845  23.04150213 24.11179521 27.45962844\n",
      " 24.04884816 24.12669216 30.12987374 34.67401811 23.71760234 29.10516534\n",
      " 22.71169797 25.70309366 29.18069267 28.04849747 22.49264351 23.27347376\n",
      " 25.61325672 32.42602555 28.4392011  26.57470954 20.76648052 25.75416026\n",
      " 33.10097668 24.69787762 29.70385353 26.12189491 25.7218882  24.37240866\n",
      " 30.76321614 30.59179645 27.23555868 24.76070214 29.61019363 24.55474513\n",
      " 24.28466923 31.90031403 25.98219086 27.24974837 28.00198152 24.9685154\n",
      " 28.47617112 27.04066252 22.25851012 29.20061515 22.58427202 32.07774124\n",
      " 35.69982129 26.68790018 25.79833416 26.24284587 33.76158974 25.37595788\n",
      " 25.10075299 28.28810477 31.51487348 36.66966473 35.96441591 23.34460903\n",
      " 16.55833556 31.40358817 34.44436746 26.75146849 30.26812112 30.04679223\n",
      " 36.89001697 28.37895231 28.93386037 27.90035095 27.51166714 29.29235137\n",
      " 26.02641873 38.80331704 26.04574013 32.50530599 30.59205887 27.45448232\n",
      " 25.9189635  30.23943088 29.63719385 29.16768868 29.69010136 28.72656898\n",
      " 23.8683847  29.18048688 28.12937257 28.87228898 36.86614497 29.18598606\n",
      " 27.69540545 35.94093201 26.00589079 29.4315035  28.65669263 20.89007295\n",
      " 23.3676842  21.28627764 22.67079042 26.12338021 21.79946272 25.94938114\n",
      " 26.94130591 26.1519119  29.68407126 31.86647876 30.5708509  23.23641326\n",
      " 22.90439436 25.96579453 31.14133499 24.96447014 25.18241779 21.26354022\n",
      " 27.71942716 24.78731943 27.40173701 30.84061546 24.45846712 27.48240674\n",
      " 24.37740363 26.84076568 33.19457765 32.49623687 25.88721836 27.95993076\n",
      " 25.56902568 24.0243119  30.23225716 28.88835534 27.64998768 24.96454992\n",
      " 21.54972466 25.83568292 35.17098422 22.76493954 31.79885878 26.59013581\n",
      " 35.48073608 23.23886529 29.00550369 27.59843741 30.30299861 25.48263434\n",
      " 33.72518029 32.65328441 27.98131257 20.88157862 27.03316908 16.95911821\n",
      " 25.29562119 32.08913    21.93788991 33.612163   29.36550185 28.19168132\n",
      " 31.26029122 24.01601885 30.38154181 31.73010249 28.35982402 28.50571956\n",
      " 33.18749313 32.8505053  30.29512908 30.5237371  34.23469512 24.87632927\n",
      " 28.28144125 24.10329419 23.97554355 24.42720345 27.44666428 30.99036253\n",
      " 21.86168151 24.17444082 27.72616227 34.42705775 27.11286783 29.31446642\n",
      " 29.67423912 35.47130064 25.14525791 31.98043943 30.22639047 27.65736864\n",
      " 22.27113401 36.16608748 22.20642585 20.21091777 28.47537578 22.9236049\n",
      " 29.41636917 28.64899069 25.85873023 29.57920347 26.77666979 19.88610231\n",
      " 29.58004381 33.22504069 26.23414863 25.64008104 28.73590367 25.22027396\n",
      " 23.18666363 31.95672594 28.05767939 18.66134531 32.54761296 26.85438405\n",
      " 29.35784846 30.7002293  27.83492401 27.41039648 28.34178923 29.94730157\n",
      " 26.70113319 22.35209362 24.89276243 21.82139093 21.78804816 28.67441544\n",
      " 28.99492732 32.51501743 30.23259004 29.68761474 30.92002893 27.06844493\n",
      " 29.44442713 27.12317172 28.5817341  27.40461553 28.17398766 25.46978946\n",
      " 20.14682086 23.43229248 29.45547585 24.25038116 31.93911876 28.28691142\n",
      " 29.43171603 29.61323468 35.61784714 24.50842278 21.31207206 29.61986304\n",
      " 29.91444142 22.73712524 35.84978386 28.9269838  25.44270609 25.09127434\n",
      " 35.60615648 28.99486588 26.96421665 20.04188703 29.92171406 20.66271876\n",
      " 32.64192112 29.55515533 26.02614296 24.19333155 29.34498658 26.36365132\n",
      " 27.63386428 27.73048027 25.94783857 33.77182722 34.11926332 24.49902219\n",
      " 25.31724208 25.40582083 27.84602829 27.19209731 26.76212562 26.10718393\n",
      " 28.23404416 27.17698298 26.9662411  25.71243995 29.14962895 27.2161037\n",
      " 33.97398552 39.1952647  33.85525982 29.28939066 34.30775571 34.74148228\n",
      " 21.35691571 33.3279753  27.3211055  22.06281057 26.54052804 25.34859119\n",
      " 20.73747563 20.71694019 26.48184915 29.29789831 25.00188272 31.38732299\n",
      " 22.10555066 27.56292926 21.49671941 29.6313108  33.52007377 33.18753807\n",
      " 23.05963192 23.59870106 28.44690546 30.42127648 28.91097612 29.70903945\n",
      " 25.38892884 30.79015392 31.16095042 28.82907169 27.75618695 31.33596201\n",
      " 27.73549707 24.01410923 29.7219646  30.14024787 29.66226747 19.39874272\n",
      " 25.85893805 39.79290286 25.06355257 25.09066532 26.60553318 23.74437331\n",
      " 38.13622094 23.2770135  27.13129562 24.30299397 24.92199854 27.40079839\n",
      " 27.90516958 34.10680606 30.03245444 25.15030824 29.32685589 33.96760484\n",
      " 27.722207   26.15882206 27.45387592 25.61067811 31.29072508 28.02075596\n",
      " 33.83291501 23.94833212 24.234169   31.11413776 34.40702226 28.74485078\n",
      " 21.72738822 33.33290873 29.41622343 21.82254022 28.47821087 22.59694229\n",
      " 27.78959714 27.65747297 24.44873882 25.46501203 29.94278869 27.59082922\n",
      " 27.63841543 25.54006084 26.31846432 28.37236942 25.95117996 28.34382315\n",
      " 24.20038014 28.93187623 31.9567522  28.30068672 31.65856301 26.790807\n",
      " 23.34876992 28.207321  ]\n"
     ]
    }
   ],
   "source": [
    "print(grey_height)"
   ]
  },
  {
   "cell_type": "code",
   "execution_count": 52,
   "metadata": {},
   "outputs": [
    {
     "name": "stdout",
     "output_type": "stream",
     "text": [
      "[24.34898374 24.67546146 24.91276187 25.00666547 26.68140795 34.76439269\n",
      " 25.80971201 27.71600415 23.55035519 28.66866255 24.670504   22.67378844\n",
      " 26.09141666 19.75782571 28.51337253 26.83662551 20.72179503 23.62988318\n",
      " 29.7926463  23.47803755 27.29386725 23.33844675 17.62382844 28.70800761\n",
      " 36.69684306 30.11297833 26.49106249 26.87197111 19.81982486 27.53421059\n",
      " 19.27440045 22.98335427 24.71168563 25.09813365 23.25552731 25.30257651\n",
      " 17.15402465 26.07847223 27.33270634 21.2123084  24.8971643  24.94286012\n",
      " 24.43747477 25.1339637  22.52829581 17.2572868  18.4394907  21.11029106\n",
      " 23.42325926 25.61407489 19.00268874 21.44233878 24.2496792  15.45210069\n",
      " 20.38421051 23.3019437  23.11194671 31.19551775 26.65297427 24.90469491\n",
      " 16.45679357 21.82289868 28.07168353 23.35569929 26.18527821 17.57547045\n",
      " 23.56167935 24.18985826 23.77302325 29.79195416 22.0760095  27.72297181\n",
      " 25.38918981 26.67592735 22.92845917 25.68206007 23.11694536 23.79421893\n",
      " 25.22627733 23.74472137 26.99858877 27.57619962 22.20555882 22.25989033\n",
      " 24.89505053 28.34664096 17.97061924 28.42635903 20.30675091 30.41276485\n",
      " 25.8362924  31.06520799 26.15675353 23.63522058 22.82863633 18.70655426\n",
      " 21.82950443 30.55803455 29.51401114 26.09187728 27.11623692 29.8962734\n",
      " 29.06483624 25.98591112 23.45410985 23.64643266 21.21791721 17.67592711\n",
      " 18.81244511 31.33151355 25.82935566 21.19888243 24.14034231 23.13202567\n",
      " 25.81081548 26.29488784 28.45744967 26.66903505 25.35162483 26.79770909\n",
      " 24.3031775  33.79017583 24.59250213 17.36170037 20.91560582 29.0734431\n",
      " 22.80031737 17.52648968 24.38068432 19.25600771 21.06879106 31.93314936\n",
      " 22.86165335 28.71927772 27.56531638 23.85127361 21.96278894 24.12946559\n",
      " 27.73089776 22.70431901 19.63644436 17.57078861 27.09824788 23.05905874\n",
      " 25.62621553 18.88869398 21.04762299 25.06337467 20.48280646 27.07740751\n",
      " 26.91036653 25.53958707 24.81434372 27.59519073 33.49579952 26.90040365\n",
      " 22.05173619 27.07256249 21.75705179 23.89540161 18.08128269 23.35977582\n",
      " 29.57155055 18.44900659 19.67251399 24.0681547  27.98959367 23.74386938\n",
      " 26.29534082 21.3761872  23.51211832 15.55847668 21.00075946 25.19544305\n",
      " 23.99776077 28.77403399 16.2233311  25.00953939 25.19155009 21.96374775\n",
      " 25.4438465  21.52405483 29.85531099 26.82863836 26.95253829 21.90802077\n",
      " 27.68932616 26.27410533 23.9388787  26.40750339 20.13140476 23.25344964\n",
      " 22.90589884 28.97517334 27.60840488 29.50873522 26.10920428 20.50131086\n",
      " 22.49021813 22.37620985 26.00381328 22.3560539  19.33842808 25.10005308\n",
      " 19.84456075 22.47249382 21.16416981 24.63995222 24.28090737 24.94268408\n",
      " 26.39504925 15.49386474 27.57684809 30.36846699 15.79273344 22.79010777\n",
      " 33.87193308 27.51234327 23.53807716 21.82024226 22.25090829 16.92890291\n",
      " 24.55898267 28.84940286 17.70318392 24.68355115 22.53279684 21.71089243\n",
      " 23.7722494  23.04790926 26.26630085 13.94373273 22.64433771 20.27284834\n",
      " 31.50253712 24.73464925 24.89549981 21.83403933 23.68733978 21.18819083\n",
      " 21.38809408 23.94528593 33.32598117 20.87197827 24.64724743 22.77172639\n",
      " 25.82694493 20.51361404 23.08481695 19.03973955 17.99568322 23.13876658\n",
      " 28.19280466 23.43426165 18.66375222 15.14338927 28.24742063 28.83553924\n",
      " 27.77518208 20.50421002 22.8808971  25.77758106 22.17558015 29.12697515\n",
      " 17.89028703 24.44921753 15.01313376 22.2400036  17.30592235 20.11896231\n",
      " 16.93081762 21.46375931 26.73849593 28.24475013 25.78479464 17.09480497\n",
      " 24.5907931  22.17143434 18.00186491 27.09028604 28.06337798 27.07779901\n",
      " 25.49180635 11.60896686 20.80431495 30.43341985 22.51489456 26.56145464\n",
      " 24.42699578 22.04962591 25.05958371 32.21720864 15.17321574 27.15504956\n",
      " 30.1493199  22.94687448 26.94495272 18.14187443 29.75750317 23.70744907\n",
      " 12.99006823 22.55830245 19.47381275 24.1763993  23.22039173 29.05526386\n",
      " 22.16227944 27.13235711 26.97056195 24.27576648 23.46335896 29.65920485\n",
      " 34.2020675  24.27421754 25.98046963 28.82308821 24.57319369 19.93575505\n",
      " 23.50212838 17.71155755 20.25806951 25.81227101 22.26670992 27.5238771\n",
      " 30.03339459 25.6061637  25.7991585  26.24052351 21.31385846 29.77329854\n",
      " 27.82164364 25.76492821 24.92039518 31.42817765 23.34623067 23.17980997\n",
      " 26.50946048 30.06800515 23.63601002 24.84344127 25.75883727 21.63015593\n",
      " 21.37186153 22.78611101 27.94666559 20.24259599 18.81794223 28.81317683\n",
      " 21.33861818 25.38550032 20.19596919 27.25940082 28.52219185 19.68557935\n",
      " 22.75171399 31.50299107 31.41474689 26.12167905 21.7042799  22.52489264\n",
      " 25.10021478 26.77649001 23.53887258 26.29695677 19.76064576 25.34550414\n",
      " 22.60480673 23.33777927 24.48954164 23.4634025  26.23495876 29.12197974\n",
      " 28.50468929 20.65028222 27.29170257 26.16315083 17.05360771 24.27322333\n",
      " 15.9034237  16.7577622  23.42622969 25.34805445 25.6600088  28.75448796\n",
      " 22.28807336 22.59367279 23.12315088 28.56889503 29.85125729 17.96894618\n",
      " 24.04904501 20.4544076  24.72231128 22.75917923 28.19331131 25.26774868\n",
      " 28.08989611 26.89679952 24.01246013 20.84929094 27.86300079 23.25326969\n",
      " 20.60552261 21.15807211 22.81427094 29.72550885 23.06026938 24.83462929\n",
      " 15.10859654 28.04601034 31.06337861 28.67031969 25.24738981 21.74087861\n",
      " 32.64800413 30.77724105 22.97792684 26.4039403  23.50380181 28.65360067\n",
      " 23.43573445 19.80081937 27.86086066 25.77373248 26.13408086 21.57426913\n",
      " 25.31923145 24.40366726 27.05935607 25.4633365  25.98713651 32.59115965\n",
      " 27.1172047  28.35008842 24.38032887 24.42340997 20.51899637 22.80007767\n",
      " 31.85943828 22.13517279 21.87201563 23.19046576 25.6619485  27.45413902\n",
      " 19.69009474 29.15987978 24.19199564 23.86782306 23.1846865  25.46537483\n",
      " 27.25147693 26.82167421 16.91823612 28.48249839 27.97652507 18.93463705\n",
      " 31.76187587 18.25770361 30.62887968 24.17695881 24.11773721 26.19032196\n",
      " 27.41585073 19.27681507 21.84394507 24.64315397 26.52836174 27.61631092\n",
      " 25.51416593 28.8027512  21.54988152 18.83747496 29.18916135 22.65682259\n",
      " 17.0206588  32.35829421 26.34562014 19.97130281 23.2988862  25.75913284\n",
      " 25.97764135 24.36221012 19.20395686 22.38507947 13.95364204 17.71963759\n",
      " 26.16465381 25.10742083 21.61858584 30.55844548 26.6499072  23.03542843\n",
      " 28.88545946 25.9731654  30.0508966  21.84500997 19.08659189 24.33317605\n",
      " 22.89889194 28.45364152]\n"
     ]
    }
   ],
   "source": [
    "print(lab_height)"
   ]
  },
  {
   "cell_type": "code",
   "execution_count": 1,
   "metadata": {},
   "outputs": [],
   "source": [
    "# import a dataset\n",
    "from sklearn import datasets\n",
    "iris= datasets.load_iris()"
   ]
  },
  {
   "cell_type": "code",
   "execution_count": 2,
   "metadata": {},
   "outputs": [],
   "source": [
    "x = iris.data\n",
    "y = iris.target"
   ]
  },
  {
   "cell_type": "code",
   "execution_count": 5,
   "metadata": {},
   "outputs": [],
   "source": [
    "from sklearn.model_selection import train_test_split\n",
    "x_train, x_test, y_train, y_test = train_test_split(x, y, test_size = .5)"
   ]
  },
  {
   "cell_type": "code",
   "execution_count": 6,
   "metadata": {},
   "outputs": [
    {
     "name": "stdout",
     "output_type": "stream",
     "text": [
      "[[6.7 3.3 5.7 2.5]\n",
      " [6.3 3.3 6.  2.5]\n",
      " [5.1 3.4 1.5 0.2]\n",
      " [6.  3.4 4.5 1.6]\n",
      " [4.4 2.9 1.4 0.2]\n",
      " [6.  3.  4.8 1.8]\n",
      " [5.1 3.8 1.9 0.4]\n",
      " [7.6 3.  6.6 2.1]\n",
      " [4.8 3.4 1.9 0.2]\n",
      " [7.7 3.  6.1 2.3]\n",
      " [6.3 3.4 5.6 2.4]\n",
      " [6.7 3.  5.  1.7]\n",
      " [6.3 3.3 4.7 1.6]\n",
      " [6.5 2.8 4.6 1.5]\n",
      " [5.4 3.  4.5 1.5]\n",
      " [5.5 4.2 1.4 0.2]\n",
      " [6.1 2.6 5.6 1.4]\n",
      " [5.1 3.8 1.5 0.3]\n",
      " [6.3 2.7 4.9 1.8]\n",
      " [7.2 3.  5.8 1.6]\n",
      " [6.4 2.9 4.3 1.3]\n",
      " [4.7 3.2 1.6 0.2]\n",
      " [5.6 2.5 3.9 1.1]\n",
      " [6.8 3.2 5.9 2.3]\n",
      " [6.6 3.  4.4 1.4]\n",
      " [4.8 3.  1.4 0.3]\n",
      " [6.6 2.9 4.6 1.3]\n",
      " [4.8 3.1 1.6 0.2]\n",
      " [4.6 3.6 1.  0.2]\n",
      " [5.5 3.5 1.3 0.2]\n",
      " [5.7 2.8 4.1 1.3]\n",
      " [6.1 3.  4.9 1.8]\n",
      " [6.7 2.5 5.8 1.8]\n",
      " [5.5 2.5 4.  1.3]\n",
      " [6.7 3.1 4.4 1.4]\n",
      " [4.4 3.2 1.3 0.2]\n",
      " [6.3 2.9 5.6 1.8]\n",
      " [5.7 4.4 1.5 0.4]\n",
      " [4.6 3.2 1.4 0.2]\n",
      " [6.4 2.8 5.6 2.2]\n",
      " [4.9 3.6 1.4 0.1]\n",
      " [6.1 2.8 4.7 1.2]\n",
      " [5.3 3.7 1.5 0.2]\n",
      " [5.9 3.  5.1 1.8]\n",
      " [7.2 3.2 6.  1.8]\n",
      " [5.8 2.7 5.1 1.9]\n",
      " [5.8 4.  1.2 0.2]\n",
      " [5.1 3.5 1.4 0.3]\n",
      " [4.4 3.  1.3 0.2]\n",
      " [6.2 2.2 4.5 1.5]\n",
      " [5.  3.  1.6 0.2]\n",
      " [5.8 2.7 4.1 1. ]\n",
      " [6.9 3.1 5.4 2.1]\n",
      " [7.7 3.8 6.7 2.2]\n",
      " [5.  3.6 1.4 0.2]\n",
      " [5.7 2.6 3.5 1. ]\n",
      " [5.1 2.5 3.  1.1]\n",
      " [5.  3.4 1.6 0.4]\n",
      " [7.4 2.8 6.1 1.9]\n",
      " [6.4 2.8 5.6 2.1]\n",
      " [6.  2.7 5.1 1.6]\n",
      " [5.6 2.7 4.2 1.3]\n",
      " [6.  2.9 4.5 1.5]\n",
      " [5.4 3.4 1.7 0.2]\n",
      " [4.6 3.4 1.4 0.3]\n",
      " [5.1 3.7 1.5 0.4]\n",
      " [5.4 3.7 1.5 0.2]\n",
      " [4.5 2.3 1.3 0.3]\n",
      " [5.  3.4 1.5 0.2]\n",
      " [5.9 3.  4.2 1.5]\n",
      " [6.  2.2 4.  1. ]\n",
      " [4.8 3.4 1.6 0.2]\n",
      " [7.7 2.8 6.7 2. ]\n",
      " [5.4 3.4 1.5 0.4]\n",
      " [5.5 2.4 3.8 1.1]] [[5.  3.5 1.6 0.6]\n",
      " [4.9 3.1 1.5 0.2]\n",
      " [4.9 3.  1.4 0.2]\n",
      " [5.8 2.7 3.9 1.2]\n",
      " [4.9 3.1 1.5 0.1]\n",
      " [6.5 3.2 5.1 2. ]\n",
      " [5.  3.5 1.3 0.3]\n",
      " [6.7 3.1 4.7 1.5]\n",
      " [5.7 3.8 1.7 0.3]\n",
      " [6.3 2.3 4.4 1.3]\n",
      " [6.8 3.  5.5 2.1]\n",
      " [6.5 3.  5.5 1.8]\n",
      " [4.3 3.  1.1 0.1]\n",
      " [5.7 3.  4.2 1.2]\n",
      " [5.1 3.8 1.6 0.2]\n",
      " [5.6 3.  4.1 1.3]\n",
      " [6.5 3.  5.2 2. ]\n",
      " [6.  2.2 5.  1.5]\n",
      " [5.2 2.7 3.9 1.4]\n",
      " [5.  2.3 3.3 1. ]\n",
      " [4.6 3.1 1.5 0.2]\n",
      " [6.7 3.1 5.6 2.4]\n",
      " [6.2 2.9 4.3 1.3]\n",
      " [5.1 3.3 1.7 0.5]\n",
      " [4.7 3.2 1.3 0.2]\n",
      " [5.6 2.8 4.9 2. ]\n",
      " [6.3 2.5 5.  1.9]\n",
      " [6.7 3.  5.2 2.3]\n",
      " [5.  3.2 1.2 0.2]\n",
      " [6.1 2.9 4.7 1.4]\n",
      " [6.4 3.1 5.5 1.8]\n",
      " [5.5 2.6 4.4 1.2]\n",
      " [6.1 3.  4.6 1.4]\n",
      " [5.2 3.4 1.4 0.2]\n",
      " [5.5 2.4 3.7 1. ]\n",
      " [5.6 2.9 3.6 1.3]\n",
      " [7.7 2.6 6.9 2.3]\n",
      " [6.2 2.8 4.8 1.8]\n",
      " [5.8 2.6 4.  1.2]\n",
      " [5.  3.3 1.4 0.2]\n",
      " [6.4 3.2 5.3 2.3]\n",
      " [5.4 3.9 1.3 0.4]\n",
      " [6.8 2.8 4.8 1.4]\n",
      " [6.9 3.1 5.1 2.3]\n",
      " [7.  3.2 4.7 1.4]\n",
      " [7.3 2.9 6.3 1.8]\n",
      " [5.8 2.7 5.1 1.9]\n",
      " [5.2 4.1 1.5 0.1]\n",
      " [5.  2.  3.5 1. ]\n",
      " [7.2 3.6 6.1 2.5]\n",
      " [6.3 2.5 4.9 1.5]\n",
      " [6.2 3.4 5.4 2.3]\n",
      " [5.2 3.5 1.5 0.2]\n",
      " [4.8 3.  1.4 0.1]\n",
      " [6.9 3.1 4.9 1.5]\n",
      " [5.9 3.2 4.8 1.8]\n",
      " [6.7 3.3 5.7 2.1]\n",
      " [4.9 2.5 4.5 1.7]\n",
      " [5.6 3.  4.5 1.5]\n",
      " [7.9 3.8 6.4 2. ]\n",
      " [6.9 3.2 5.7 2.3]\n",
      " [4.9 2.4 3.3 1. ]\n",
      " [6.1 2.8 4.  1.3]\n",
      " [6.4 3.2 4.5 1.5]\n",
      " [5.1 3.5 1.4 0.2]\n",
      " [6.5 3.  5.8 2.2]\n",
      " [5.8 2.8 5.1 2.4]\n",
      " [5.4 3.9 1.7 0.4]\n",
      " [5.7 2.8 4.5 1.3]\n",
      " [5.5 2.3 4.  1.3]\n",
      " [5.7 2.5 5.  2. ]\n",
      " [6.3 2.8 5.1 1.5]\n",
      " [7.1 3.  5.9 2.1]\n",
      " [5.7 2.9 4.2 1.3]\n",
      " [6.4 2.7 5.3 1.9]] [2 2 0 1 0 2 0 2 0 2 2 1 1 1 1 0 2 0 2 2 1 0 1 2 1 0 1 0 0 0 1 2 2 1 1 0 2\n",
      " 0 0 2 0 1 0 2 2 2 0 0 0 1 0 1 2 2 0 1 1 0 2 2 1 1 1 0 0 0 0 0 0 1 1 0 2 0\n",
      " 1] [0 0 0 1 0 2 0 1 0 1 2 2 0 1 0 1 2 2 1 1 0 2 1 0 0 2 2 2 0 1 2 1 1 0 1 1 2\n",
      " 2 1 0 2 0 1 2 1 2 2 0 1 2 1 2 0 0 1 1 2 2 1 2 2 1 1 1 0 2 2 0 1 1 2 2 2 1\n",
      " 2]\n"
     ]
    }
   ],
   "source": [
    "print(x_train, x_test, y_train, y_test)"
   ]
  },
  {
   "cell_type": "code",
   "execution_count": 36,
   "metadata": {},
   "outputs": [],
   "source": [
    "#from sklearn import tree\n",
    "#my_classifier = tree.DecisionTreeClassifier()\n",
    "#from sklearn.neighbors import KNeighborsClassifier\n",
    "from scipy.spatial import distance\n",
    "\n",
    "def euc(a, b):\n",
    "    return distance.euclidean(a, b)\n",
    "\n",
    "class ScrappyKNN():\n",
    "    def fit(self, x_train, y_train):\n",
    "        self.x_train = x_train\n",
    "        self.y_train = y_train\n",
    "        \n",
    "    def predict(self, x_test):\n",
    "        predictions = []\n",
    "        for row in x_test:\n",
    "            label = self.closest(row)\n",
    "            predictions.append(label)\n",
    "        return predictions\n",
    "    \n",
    "    def closest(self, row):\n",
    "        best_dist = euc(row, self.x_train[0])\n",
    "        best_index = 0\n",
    "        for i in range(1, len(self.x_train)):\n",
    "            dist = euc(row, self.x_train[i])\n",
    "            if dist < best_dist:\n",
    "                best_dist = dist\n",
    "                best_index = i\n",
    "        return self.y_train[best_index]"
   ]
  },
  {
   "cell_type": "code",
   "execution_count": null,
   "metadata": {},
   "outputs": [],
   "source": []
  },
  {
   "cell_type": "code",
   "execution_count": 37,
   "metadata": {},
   "outputs": [
    {
     "name": "stdout",
     "output_type": "stream",
     "text": [
      "[0, 0, 0, 1, 0, 1, 0, 1, 0, 1, 2, 2, 0, 1, 0, 1, 1, 1, 1, 1, 0, 2, 1, 0, 0, 2, 2, 2, 0, 1, 2, 1, 1, 0, 1, 1, 2, 2, 1, 0, 2, 0, 1, 2, 1, 2, 2, 0, 1, 2, 2, 2, 0, 0, 1, 2, 2, 1, 1, 2, 2, 1, 1, 1, 0, 2, 2, 0, 1, 1, 2, 1, 2, 1, 2]\n"
     ]
    }
   ],
   "source": [
    "my_classifier = ScrappyKNN()\n",
    "my_classifier.fit(x_train, y_train)\n",
    "predictions = my_classifier.predict(x_test)\n",
    "print(predictions)"
   ]
  },
  {
   "cell_type": "code",
   "execution_count": null,
   "metadata": {},
   "outputs": [],
   "source": []
  },
  {
   "cell_type": "code",
   "execution_count": null,
   "metadata": {},
   "outputs": [],
   "source": []
  },
  {
   "cell_type": "code",
   "execution_count": 38,
   "metadata": {},
   "outputs": [
    {
     "name": "stdout",
     "output_type": "stream",
     "text": [
      "0.9066666666666666\n"
     ]
    }
   ],
   "source": [
    "from sklearn.metrics import accuracy_score\n",
    "print (accuracy_score(y_test, predictions))"
   ]
  },
  {
   "cell_type": "code",
   "execution_count": null,
   "metadata": {},
   "outputs": [],
   "source": []
  },
  {
   "cell_type": "code",
   "execution_count": null,
   "metadata": {},
   "outputs": [],
   "source": []
  },
  {
   "cell_type": "code",
   "execution_count": 28,
   "metadata": {},
   "outputs": [],
   "source": []
  },
  {
   "cell_type": "code",
   "execution_count": null,
   "metadata": {},
   "outputs": [],
   "source": []
  },
  {
   "cell_type": "code",
   "execution_count": 29,
   "metadata": {},
   "outputs": [],
   "source": []
  },
  {
   "cell_type": "code",
   "execution_count": null,
   "metadata": {},
   "outputs": [],
   "source": []
  },
  {
   "cell_type": "code",
   "execution_count": null,
   "metadata": {},
   "outputs": [],
   "source": []
  },
  {
   "cell_type": "code",
   "execution_count": 30,
   "metadata": {},
   "outputs": [
    {
     "name": "stdout",
     "output_type": "stream",
     "text": [
      "[1, 1, 2, 2, 1, 2, 1, 0, 2, 2, 2, 2, 0, 1, 0, 2, 1, 1, 1, 0, 2, 1, 0, 0, 1, 0, 1, 0, 0, 2, 1, 1, 2, 0, 0, 0, 2, 2, 0, 1, 0, 1, 1, 1, 2, 0, 1, 0, 1, 1, 0, 2, 2, 0, 0, 1, 1, 1, 0, 1, 0, 0, 1, 0, 1, 2, 0, 0, 1, 0, 2, 2, 2, 0, 0]\n"
     ]
    }
   ],
   "source": []
  },
  {
   "cell_type": "code",
   "execution_count": null,
   "metadata": {},
   "outputs": [],
   "source": []
  },
  {
   "cell_type": "code",
   "execution_count": null,
   "metadata": {},
   "outputs": [],
   "source": []
  },
  {
   "cell_type": "code",
   "execution_count": 31,
   "metadata": {},
   "outputs": [],
   "source": []
  },
  {
   "cell_type": "code",
   "execution_count": null,
   "metadata": {},
   "outputs": [],
   "source": []
  },
  {
   "cell_type": "code",
   "execution_count": null,
   "metadata": {},
   "outputs": [],
   "source": []
  },
  {
   "cell_type": "code",
   "execution_count": 32,
   "metadata": {},
   "outputs": [
    {
     "name": "stdout",
     "output_type": "stream",
     "text": [
      "0.3466666666666667\n"
     ]
    }
   ],
   "source": []
  },
  {
   "cell_type": "code",
   "execution_count": null,
   "metadata": {},
   "outputs": [],
   "source": []
  },
  {
   "cell_type": "code",
   "execution_count": null,
   "metadata": {},
   "outputs": [],
   "source": []
  },
  {
   "cell_type": "code",
   "execution_count": null,
   "metadata": {},
   "outputs": [],
   "source": []
  },
  {
   "cell_type": "code",
   "execution_count": 20,
   "metadata": {},
   "outputs": [],
   "source": []
  },
  {
   "cell_type": "code",
   "execution_count": null,
   "metadata": {},
   "outputs": [],
   "source": []
  },
  {
   "cell_type": "code",
   "execution_count": null,
   "metadata": {},
   "outputs": [],
   "source": []
  },
  {
   "cell_type": "code",
   "execution_count": null,
   "metadata": {},
   "outputs": [],
   "source": []
  },
  {
   "cell_type": "code",
   "execution_count": null,
   "metadata": {},
   "outputs": [],
   "source": []
  },
  {
   "cell_type": "code",
   "execution_count": null,
   "metadata": {},
   "outputs": [],
   "source": []
  },
  {
   "cell_type": "code",
   "execution_count": null,
   "metadata": {},
   "outputs": [],
   "source": []
  },
  {
   "cell_type": "code",
   "execution_count": null,
   "metadata": {},
   "outputs": [],
   "source": []
  },
  {
   "cell_type": "code",
   "execution_count": null,
   "metadata": {},
   "outputs": [],
   "source": []
  },
  {
   "cell_type": "code",
   "execution_count": null,
   "metadata": {},
   "outputs": [],
   "source": []
  },
  {
   "cell_type": "code",
   "execution_count": null,
   "metadata": {},
   "outputs": [],
   "source": []
  },
  {
   "cell_type": "code",
   "execution_count": null,
   "metadata": {},
   "outputs": [],
   "source": []
  },
  {
   "cell_type": "code",
   "execution_count": null,
   "metadata": {},
   "outputs": [],
   "source": []
  },
  {
   "cell_type": "code",
   "execution_count": null,
   "metadata": {},
   "outputs": [],
   "source": []
  },
  {
   "cell_type": "code",
   "execution_count": null,
   "metadata": {},
   "outputs": [],
   "source": []
  },
  {
   "cell_type": "code",
   "execution_count": null,
   "metadata": {},
   "outputs": [],
   "source": []
  },
  {
   "cell_type": "code",
   "execution_count": null,
   "metadata": {},
   "outputs": [],
   "source": []
  },
  {
   "cell_type": "code",
   "execution_count": null,
   "metadata": {},
   "outputs": [],
   "source": []
  },
  {
   "cell_type": "code",
   "execution_count": 44,
   "metadata": {},
   "outputs": [],
   "source": []
  },
  {
   "cell_type": "code",
   "execution_count": null,
   "metadata": {},
   "outputs": [],
   "source": []
  },
  {
   "cell_type": "code",
   "execution_count": null,
   "metadata": {},
   "outputs": [],
   "source": []
  },
  {
   "cell_type": "code",
   "execution_count": null,
   "metadata": {},
   "outputs": [],
   "source": []
  },
  {
   "cell_type": "code",
   "execution_count": null,
   "metadata": {},
   "outputs": [],
   "source": []
  },
  {
   "cell_type": "code",
   "execution_count": 37,
   "metadata": {},
   "outputs": [],
   "source": []
  },
  {
   "cell_type": "code",
   "execution_count": null,
   "metadata": {},
   "outputs": [],
   "source": []
  },
  {
   "cell_type": "code",
   "execution_count": null,
   "metadata": {},
   "outputs": [],
   "source": []
  },
  {
   "cell_type": "code",
   "execution_count": null,
   "metadata": {},
   "outputs": [],
   "source": []
  },
  {
   "cell_type": "code",
   "execution_count": null,
   "metadata": {},
   "outputs": [],
   "source": []
  },
  {
   "cell_type": "code",
   "execution_count": null,
   "metadata": {},
   "outputs": [],
   "source": []
  },
  {
   "cell_type": "code",
   "execution_count": null,
   "metadata": {},
   "outputs": [],
   "source": []
  },
  {
   "cell_type": "code",
   "execution_count": null,
   "metadata": {},
   "outputs": [],
   "source": []
  },
  {
   "cell_type": "code",
   "execution_count": null,
   "metadata": {},
   "outputs": [],
   "source": []
  },
  {
   "cell_type": "code",
   "execution_count": null,
   "metadata": {},
   "outputs": [],
   "source": []
  },
  {
   "cell_type": "code",
   "execution_count": null,
   "metadata": {},
   "outputs": [],
   "source": []
  },
  {
   "cell_type": "code",
   "execution_count": null,
   "metadata": {},
   "outputs": [],
   "source": []
  },
  {
   "cell_type": "code",
   "execution_count": null,
   "metadata": {},
   "outputs": [],
   "source": []
  },
  {
   "cell_type": "code",
   "execution_count": null,
   "metadata": {},
   "outputs": [],
   "source": []
  },
  {
   "cell_type": "code",
   "execution_count": null,
   "metadata": {},
   "outputs": [],
   "source": []
  }
 ],
 "metadata": {
  "kernelspec": {
   "display_name": "Python 3",
   "language": "python",
   "name": "python3"
  },
  "language_info": {
   "codemirror_mode": {
    "name": "ipython",
    "version": 3
   },
   "file_extension": ".py",
   "mimetype": "text/x-python",
   "name": "python",
   "nbconvert_exporter": "python",
   "pygments_lexer": "ipython3",
   "version": "3.7.1"
  }
 },
 "nbformat": 4,
 "nbformat_minor": 2
}
