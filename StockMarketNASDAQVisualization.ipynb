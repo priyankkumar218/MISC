{
  "nbformat": 4,
  "nbformat_minor": 0,
  "metadata": {
    "colab": {
      "name": "StockMarketNASDAQVisualization.ipynb",
      "provenance": [],
      "authorship_tag": "ABX9TyPGBNBToG5VjVOm6x/sZ5wM",
      "include_colab_link": true
    },
    "kernelspec": {
      "name": "python3",
      "display_name": "Python 3"
    }
  },
  "cells": [
    {
      "cell_type": "markdown",
      "metadata": {
        "id": "view-in-github",
        "colab_type": "text"
      },
      "source": [
        "<a href=\"https://colab.research.google.com/github/priyankkumar218/MISC/blob/master/StockMarketNASDAQVisualization.ipynb\" target=\"_parent\"><img src=\"https://colab.research.google.com/assets/colab-badge.svg\" alt=\"Open In Colab\"/></a>"
      ]
    },
    {
      "cell_type": "code",
      "metadata": {
        "id": "vdMvF9QJMEk2",
        "colab_type": "code",
        "colab": {}
      },
      "source": [
        "import pandas as pd\n",
        "import numpy as np\n",
        "import matplotlib.pyplot as plt"
      ],
      "execution_count": 36,
      "outputs": []
    },
    {
      "cell_type": "code",
      "metadata": {
        "id": "i5n2TRTNMf8m",
        "colab_type": "code",
        "colab": {}
      },
      "source": [
        "df = pd.read_csv('ORCL.csv')"
      ],
      "execution_count": 37,
      "outputs": []
    },
    {
      "cell_type": "code",
      "metadata": {
        "id": "ZO-C9HDBMun3",
        "colab_type": "code",
        "colab": {}
      },
      "source": [
        "x_train = df['Date']\n",
        "y_train = df[' Close/Last']"
      ],
      "execution_count": 38,
      "outputs": []
    },
    {
      "cell_type": "code",
      "metadata": {
        "id": "aW1JZkKWM6Ga",
        "colab_type": "code",
        "colab": {}
      },
      "source": [
        "price=[]"
      ],
      "execution_count": 39,
      "outputs": []
    },
    {
      "cell_type": "code",
      "metadata": {
        "id": "Cnt34C6eNNn8",
        "colab_type": "code",
        "colab": {}
      },
      "source": [
        "for i in y_train:\n",
        "  i = i.replace('$', '')\n",
        "  price.append(float(i))"
      ],
      "execution_count": 40,
      "outputs": []
    },
    {
      "cell_type": "code",
      "metadata": {
        "id": "LtCqzhfcNX1a",
        "colab_type": "code",
        "colab": {
          "base_uri": "https://localhost:8080/",
          "height": 54
        },
        "outputId": "37416774-07d8-408f-a1ce-64c87db7829f"
      },
      "source": [
        "print(price)"
      ],
      "execution_count": 41,
      "outputs": [
        {
          "output_type": "stream",
          "text": [
            "[57.88, 57.18, 57.49, 56.09, 56.01, 55.19, 55.26, 56.2, 55.18, 53.99, 54.2, 54.02, 54.17, 54.27, 54.94, 55.23, 55.28, 55.5, 56.0, 55.98, 55.45, 55.25, 55.7, 55.35, 55.34, 55.65, 55.76, 56.01, 55.91, 55.4, 54.9, 55.82, 56.62, 57.2, 57.01, 57.39, 57.53, 56.66, 56.31, 56.6, 55.94, 55.49, 55.27, 54.76, 54.18, 54.53, 54.44, 55.19, 55.12, 54.4, 53.69, 51.52, 54.59, 53.25, 51.86, 51.31, 54.11, 54.18, 55.1, 53.98, 52.85, 53.49, 53.28, 53.06, 53.77, 53.62, 53.2, 52.78, 52.62, 52.22, 52.9, 52.34, 53.15, 52.92, 52.91, 51.65, 52.27, 53.53, 53.57, 52.6, 51.86, 52.05, 51.75, 51.79, 52.97, 53.88, 53.2, 53.37, 53.01, 51.97, 52.27, 51.31, 53.91, 54.62, 53.7, 53.16, 54.0, 52.97, 53.18, 52.13, 50.76, 51.49, 49.4, 49.8, 48.71, 48.33, 50.36, 49.83, 50.48, 45.94, 47.84, 44.19, 45.65, 45.07, 47.27, 46.86, 42.72, 47.93, 39.8, 44.72, 48.58, 46.01, 47.37, 48.0, 50.54, 48.85, 50.9, 49.46, 50.78, 52.05, 50.96, 52.65, 54.68, 55.51, 55.44, 55.45, 55.47, 55.31, 55.73, 55.15, 54.99, 54.72, 54.71, 54.74, 54.04, 53.09, 52.45, 53.31, 53.2, 53.46, 52.69, 54.07, 54.98, 54.72, 55.22, 55.13, 55.43, 54.76, 54.88, 54.58, 54.45, 54.38, 54.13, 54.16, 54.04, 53.76, 53.95, 52.98, 52.7, 53.46, 53.57, 53.44, 53.71, 53.6, 53.24, 53.39, 52.84, 53.99, 54.51, 56.47, 56.31, 55.82, 55.31, 54.83, 54.68, 54.41, 54.59, 55.43, 56.14, 56.61, 56.51, 56.56, 56.39, 56.23, 56.24, 56.27, 56.19, 56.42, 56.09, 56.21, 56.59, 56.43, 56.49, 55.98, 55.7, 55.67, 55.45, 55.0, 54.49, 54.85, 54.8, 54.64, 54.17, 54.26, 54.13, 54.11, 55.13, 54.55, 55.06, 55.88, 56.35, 56.46, 56.89, 55.49, 54.53, 54.05, 54.8, 55.14, 53.86, 53.15, 53.8, 55.03, 54.09, 53.96, 53.84, 53.35, 54.02, 53.47, 53.37, 52.56, 52.87, 53.14, 53.75, 53.89, 56.29, 55.47, 54.54, 53.16, 53.84, 52.97, 51.89]\n"
          ],
          "name": "stdout"
        }
      ]
    },
    {
      "cell_type": "code",
      "metadata": {
        "id": "0Bwn-tRRNcIs",
        "colab_type": "code",
        "colab": {}
      },
      "source": [
        "max_price = max(price)\n",
        "min_price = min(price)\n",
        "dev = (max_price-min_price)/252"
      ],
      "execution_count": 42,
      "outputs": []
    },
    {
      "cell_type": "code",
      "metadata": {
        "id": "XYT_mduNNqLO",
        "colab_type": "code",
        "colab": {
          "base_uri": "https://localhost:8080/",
          "height": 34
        },
        "outputId": "76f5edb5-90e8-470b-da94-71082a195d02"
      },
      "source": [
        "print(dev)"
      ],
      "execution_count": 43,
      "outputs": [
        {
          "output_type": "stream",
          "text": [
            "0.07174603174603177\n"
          ],
          "name": "stdout"
        }
      ]
    },
    {
      "cell_type": "code",
      "metadata": {
        "id": "P6DKhwAoNsCS",
        "colab_type": "code",
        "colab": {}
      },
      "source": [
        "dates = []"
      ],
      "execution_count": 44,
      "outputs": []
    },
    {
      "cell_type": "code",
      "metadata": {
        "id": "W8ye-4fNN-eI",
        "colab_type": "code",
        "colab": {}
      },
      "source": [
        "import datetime\n",
        "import time"
      ],
      "execution_count": 45,
      "outputs": []
    },
    {
      "cell_type": "code",
      "metadata": {
        "id": "nr4jHHLiOBqo",
        "colab_type": "code",
        "colab": {}
      },
      "source": [
        "for i in x_train:\n",
        "  val=time.mktime(datetime.datetime.strptime(i, '%m/%d/%Y').timetuple())\n",
        "  dates.append(val)"
      ],
      "execution_count": 46,
      "outputs": []
    },
    {
      "cell_type": "code",
      "metadata": {
        "id": "DjM8ZXMGOxCz",
        "colab_type": "code",
        "colab": {
          "base_uri": "https://localhost:8080/",
          "height": 295
        },
        "outputId": "b99011b0-b56d-4461-879f-7a02f62add49"
      },
      "source": [
        "plt.plot(dates,price,label='Oracle')\n",
        "plt.xlabel('Dates in Time Stamp')\n",
        "plt.ylabel('Stock Price')\n",
        "plt.title('Stock Price Trends')\n",
        "plt.legend()\n",
        "plt.show()"
      ],
      "execution_count": 47,
      "outputs": [
        {
          "output_type": "display_data",
          "data": {
            "image/png": "[encoded data removed]",
            "text/plain": [
              "<Figure size 432x288 with 1 Axes>"
            ]
          },
          "metadata": {
            "tags": [],
            "needs_background": "light"
          }
        }
      ]
    }
  ]
}