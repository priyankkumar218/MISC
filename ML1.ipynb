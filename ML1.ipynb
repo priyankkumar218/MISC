{
  "nbformat": 4,
  "nbformat_minor": 0,
  "metadata": {
    "colab": {
      "name": "ML1.ipynb",
      "provenance": [],
      "authorship_tag": "ABX9TyO83SFyWoDous6Tp+4445Fu",
      "include_colab_link": true
    },
    "kernelspec": {
      "name": "python3",
      "display_name": "Python 3"
    }
  },
  "cells": [
    {
      "cell_type": "markdown",
      "metadata": {
        "id": "view-in-github",
        "colab_type": "text"
      },
      "source": [
        "<a href=\"https://colab.research.google.com/github/priyankkumar218/MISC/blob/master/ML1.ipynb\" target=\"_parent\"><img src=\"https://colab.research.google.com/assets/colab-badge.svg\" alt=\"Open In Colab\"/></a>"
      ]
    },
    {
      "cell_type": "markdown",
      "metadata": {
        "id": "wIw3Jdth46gZ",
        "colab_type": "text"
      },
      "source": [
        "# Analysis on the IRIS Dataset\n",
        "![alt text](data:image/jpeg;base64,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)\n"
      ]
    },
    {
      "cell_type": "code",
      "metadata": {
        "id": "NL208_n8yAMo",
        "colab_type": "code",
        "colab": {}
      },
      "source": [
        "import numpy as np\n",
        "import matplotlib.pyplot as plt\n",
        "import pandas as pd\n",
        "from sklearn.datasets import load_iris"
      ],
      "execution_count": 0,
      "outputs": []
    },
    {
      "cell_type": "code",
      "metadata": {
        "id": "oLU4XSJFzyZQ",
        "colab_type": "code",
        "colab": {}
      },
      "source": [
        "dataset = load_iris()"
      ],
      "execution_count": 0,
      "outputs": []
    },
    {
      "cell_type": "code",
      "metadata": {
        "id": "7XKf-Tbrz1wR",
        "colab_type": "code",
        "colab": {
          "base_uri": "https://localhost:8080/",
          "height": 34
        },
        "outputId": "9a8ea2cd-85dc-47e7-82f4-660c90a1122f"
      },
      "source": [
        "type(dataset)"
      ],
      "execution_count": 3,
      "outputs": [
        {
          "output_type": "execute_result",
          "data": {
            "text/plain": [
              "sklearn.utils.Bunch"
            ]
          },
          "metadata": {
            "tags": []
          },
          "execution_count": 3
        }
      ]
    },
    {
      "cell_type": "code",
      "metadata": {
        "id": "afZDywXyz5e0",
        "colab_type": "code",
        "colab": {
          "base_uri": "https://localhost:8080/",
          "height": 85
        },
        "outputId": "d1b04127-9f65-420b-f929-e34ce3e431f7"
      },
      "source": [
        "dataset.feature_names"
      ],
      "execution_count": 7,
      "outputs": [
        {
          "output_type": "execute_result",
          "data": {
            "text/plain": [
              "['sepal length (cm)',\n",
              " 'sepal width (cm)',\n",
              " 'petal length (cm)',\n",
              " 'petal width (cm)']"
            ]
          },
          "metadata": {
            "tags": []
          },
          "execution_count": 7
        }
      ]
    },
    {
      "cell_type": "code",
      "metadata": {
        "id": "4fb63Q_X0Jtk",
        "colab_type": "code",
        "colab": {
          "base_uri": "https://localhost:8080/",
          "height": 54
        },
        "outputId": "d133c9fc-890b-4858-aef4-041410f7eaca"
      },
      "source": [
        "dataset.DESCR"
      ],
      "execution_count": 8,
      "outputs": [
        {
          "output_type": "execute_result",
          "data": {
            "text/plain": [
              "'.. _iris_dataset:\\n\\nIris plants dataset\\n--------------------\\n\\n**Data Set Characteristics:**\\n\\n    :Number of Instances: 150 (50 in each of three classes)\\n    :Number of Attributes: 4 numeric, predictive attributes and the class\\n    :Attribute Information:\\n        - sepal length in cm\\n        - sepal width in cm\\n        - petal length in cm\\n        - petal width in cm\\n        - class:\\n                - Iris-Setosa\\n                - Iris-Versicolour\\n                - Iris-Virginica\\n                \\n    :Summary Statistics:\\n\\n    ============== ==== ==== ======= ===== ====================\\n                    Min  Max   Mean    SD   Class Correlation\\n    ============== ==== ==== ======= ===== ====================\\n    sepal length:   4.3  7.9   5.84   0.83    0.7826\\n    sepal width:    2.0  4.4   3.05   0.43   -0.4194\\n    petal length:   1.0  6.9   3.76   1.76    0.9490  (high!)\\n    petal width:    0.1  2.5   1.20   0.76    0.9565  (high!)\\n    ============== ==== ==== ======= ===== ====================\\n\\n    :Missing Attribute Values: None\\n    :Class Distribution: 33.3% for each of 3 classes.\\n    :Creator: R.A. Fisher\\n    :Donor: Michael Marshall (MARSHALL%PLU@io.arc.nasa.gov)\\n    :Date: July, 1988\\n\\nThe famous Iris database, first used by Sir R.A. Fisher. The dataset is taken\\nfrom Fisher\\'s paper. Note that it\\'s the same as in R, but not as in the UCI\\nMachine Learning Repository, which has two wrong data points.\\n\\nThis is perhaps the best known database to be found in the\\npattern recognition literature.  Fisher\\'s paper is a classic in the field and\\nis referenced frequently to this day.  (See Duda & Hart, for example.)  The\\ndata set contains 3 classes of 50 instances each, where each class refers to a\\ntype of iris plant.  One class is linearly separable from the other 2; the\\nlatter are NOT linearly separable from each other.\\n\\n.. topic:: References\\n\\n   - Fisher, R.A. \"The use of multiple measurements in taxonomic problems\"\\n     Annual Eugenics, 7, Part II, 179-188 (1936); also in \"Contributions to\\n     Mathematical Statistics\" (John Wiley, NY, 1950).\\n   - Duda, R.O., & Hart, P.E. (1973) Pattern Classification and Scene Analysis.\\n     (Q327.D83) John Wiley & Sons.  ISBN 0-471-22361-1.  See page 218.\\n   - Dasarathy, B.V. (1980) \"Nosing Around the Neighborhood: A New System\\n     Structure and Classification Rule for Recognition in Partially Exposed\\n     Environments\".  IEEE Transactions on Pattern Analysis and Machine\\n     Intelligence, Vol. PAMI-2, No. 1, 67-71.\\n   - Gates, G.W. (1972) \"The Reduced Nearest Neighbor Rule\".  IEEE Transactions\\n     on Information Theory, May 1972, 431-433.\\n   - See also: 1988 MLC Proceedings, 54-64.  Cheeseman et al\"s AUTOCLASS II\\n     conceptual clustering system finds 3 classes in the data.\\n   - Many, many more ...'"
            ]
          },
          "metadata": {
            "tags": []
          },
          "execution_count": 8
        }
      ]
    },
    {
      "cell_type": "code",
      "metadata": {
        "id": "rCiSOiCX0Ndu",
        "colab_type": "code",
        "colab": {
          "base_uri": "https://localhost:8080/",
          "height": 136
        },
        "outputId": "8561ca83-d07c-480d-b86d-65209da9ea56"
      },
      "source": [
        "dataset.target"
      ],
      "execution_count": 9,
      "outputs": [
        {
          "output_type": "execute_result",
          "data": {
            "text/plain": [
              "array([0, 0, 0, 0, 0, 0, 0, 0, 0, 0, 0, 0, 0, 0, 0, 0, 0, 0, 0, 0, 0, 0,\n",
              "       0, 0, 0, 0, 0, 0, 0, 0, 0, 0, 0, 0, 0, 0, 0, 0, 0, 0, 0, 0, 0, 0,\n",
              "       0, 0, 0, 0, 0, 0, 1, 1, 1, 1, 1, 1, 1, 1, 1, 1, 1, 1, 1, 1, 1, 1,\n",
              "       1, 1, 1, 1, 1, 1, 1, 1, 1, 1, 1, 1, 1, 1, 1, 1, 1, 1, 1, 1, 1, 1,\n",
              "       1, 1, 1, 1, 1, 1, 1, 1, 1, 1, 1, 1, 2, 2, 2, 2, 2, 2, 2, 2, 2, 2,\n",
              "       2, 2, 2, 2, 2, 2, 2, 2, 2, 2, 2, 2, 2, 2, 2, 2, 2, 2, 2, 2, 2, 2,\n",
              "       2, 2, 2, 2, 2, 2, 2, 2, 2, 2, 2, 2, 2, 2, 2, 2, 2, 2])"
            ]
          },
          "metadata": {
            "tags": []
          },
          "execution_count": 9
        }
      ]
    },
    {
      "cell_type": "code",
      "metadata": {
        "id": "1HZ5Mf4w0Q9Y",
        "colab_type": "code",
        "colab": {}
      },
      "source": [
        "X = dataset.data\n",
        "y = dataset.target"
      ],
      "execution_count": 0,
      "outputs": []
    },
    {
      "cell_type": "code",
      "metadata": {
        "id": "2DqQ3Rhe0V69",
        "colab_type": "code",
        "colab": {
          "base_uri": "https://localhost:8080/",
          "height": 265
        },
        "outputId": "d086aa93-20a3-4c68-fdfa-26bac42958a3"
      },
      "source": [
        "plt.scatter([2, 2, 2], [1, 2, 3])\n",
        "plt.show()"
      ],
      "execution_count": 31,
      "outputs": [
        {
          "output_type": "display_data",
          "data": {
            "image/png": "[encoded data removed]",
            "text/plain": [
              "<Figure size 432x288 with 1 Axes>"
            ]
          },
          "metadata": {
            "tags": [],
            "needs_background": "light"
          }
        }
      ]
    },
    {
      "cell_type": "code",
      "metadata": {
        "id": "ZNKL2iVM0h6v",
        "colab_type": "code",
        "colab": {
          "base_uri": "https://localhost:8080/",
          "height": 265
        },
        "outputId": "ae8ff75b-a2b6-4acd-d471-9f3d2452ffb3"
      },
      "source": [
        "plt.scatter([1, 2, 3], [3, 2, 1])\n",
        "plt.show()"
      ],
      "execution_count": 32,
      "outputs": [
        {
          "output_type": "display_data",
          "data": {
            "image/png": "[encoded data removed]",
            "text/plain": [
              "<Figure size 432x288 with 1 Axes>"
            ]
          },
          "metadata": {
            "tags": [],
            "needs_background": "light"
          }
        }
      ]
    },
    {
      "cell_type": "code",
      "metadata": {
        "id": "_BQS9PqK0nq5",
        "colab_type": "code",
        "colab": {
          "base_uri": "https://localhost:8080/",
          "height": 265
        },
        "outputId": "11ef0f04-cc97-444b-c930-ff1a2f17a980"
      },
      "source": [
        "plt.scatter([1, 2, 3], [2, 1, 3])\n",
        "plt.show()"
      ],
      "execution_count": 33,
      "outputs": [
        {
          "output_type": "display_data",
          "data": {
            "image/png": "[encoded data removed]",
            "text/plain": [
              "<Figure size 432x288 with 1 Axes>"
            ]
          },
          "metadata": {
            "tags": [],
            "needs_background": "light"
          }
        }
      ]
    },
    {
      "cell_type": "code",
      "metadata": {
        "id": "WLGoGyOg0xsr",
        "colab_type": "code",
        "colab": {
          "base_uri": "https://localhost:8080/",
          "height": 68
        },
        "outputId": "682d3959-3c31-4306-9b9f-f3f7a6ccbddd"
      },
      "source": [
        "X[3:6, :]"
      ],
      "execution_count": 15,
      "outputs": [
        {
          "output_type": "execute_result",
          "data": {
            "text/plain": [
              "array([[4.6, 3.1, 1.5, 0.2],\n",
              "       [5. , 3.6, 1.4, 0.2],\n",
              "       [5.4, 3.9, 1.7, 0.4]])"
            ]
          },
          "metadata": {
            "tags": []
          },
          "execution_count": 15
        }
      ]
    },
    {
      "cell_type": "code",
      "metadata": {
        "id": "UPxc2xLM04oB",
        "colab_type": "code",
        "colab": {
          "base_uri": "https://localhost:8080/",
          "height": 1000
        },
        "outputId": "969d135b-a492-44c4-dbaa-56b1c3730a87"
      },
      "source": [
        "X[:, 0:2]"
      ],
      "execution_count": 16,
      "outputs": [
        {
          "output_type": "execute_result",
          "data": {
            "text/plain": [
              "array([[5.1, 3.5],\n",
              "       [4.9, 3. ],\n",
              "       [4.7, 3.2],\n",
              "       [4.6, 3.1],\n",
              "       [5. , 3.6],\n",
              "       [5.4, 3.9],\n",
              "       [4.6, 3.4],\n",
              "       [5. , 3.4],\n",
              "       [4.4, 2.9],\n",
              "       [4.9, 3.1],\n",
              "       [5.4, 3.7],\n",
              "       [4.8, 3.4],\n",
              "       [4.8, 3. ],\n",
              "       [4.3, 3. ],\n",
              "       [5.8, 4. ],\n",
              "       [5.7, 4.4],\n",
              "       [5.4, 3.9],\n",
              "       [5.1, 3.5],\n",
              "       [5.7, 3.8],\n",
              "       [5.1, 3.8],\n",
              "       [5.4, 3.4],\n",
              "       [5.1, 3.7],\n",
              "       [4.6, 3.6],\n",
              "       [5.1, 3.3],\n",
              "       [4.8, 3.4],\n",
              "       [5. , 3. ],\n",
              "       [5. , 3.4],\n",
              "       [5.2, 3.5],\n",
              "       [5.2, 3.4],\n",
              "       [4.7, 3.2],\n",
              "       [4.8, 3.1],\n",
              "       [5.4, 3.4],\n",
              "       [5.2, 4.1],\n",
              "       [5.5, 4.2],\n",
              "       [4.9, 3.1],\n",
              "       [5. , 3.2],\n",
              "       [5.5, 3.5],\n",
              "       [4.9, 3.6],\n",
              "       [4.4, 3. ],\n",
              "       [5.1, 3.4],\n",
              "       [5. , 3.5],\n",
              "       [4.5, 2.3],\n",
              "       [4.4, 3.2],\n",
              "       [5. , 3.5],\n",
              "       [5.1, 3.8],\n",
              "       [4.8, 3. ],\n",
              "       [5.1, 3.8],\n",
              "       [4.6, 3.2],\n",
              "       [5.3, 3.7],\n",
              "       [5. , 3.3],\n",
              "       [7. , 3.2],\n",
              "       [6.4, 3.2],\n",
              "       [6.9, 3.1],\n",
              "       [5.5, 2.3],\n",
              "       [6.5, 2.8],\n",
              "       [5.7, 2.8],\n",
              "       [6.3, 3.3],\n",
              "       [4.9, 2.4],\n",
              "       [6.6, 2.9],\n",
              "       [5.2, 2.7],\n",
              "       [5. , 2. ],\n",
              "       [5.9, 3. ],\n",
              "       [6. , 2.2],\n",
              "       [6.1, 2.9],\n",
              "       [5.6, 2.9],\n",
              "       [6.7, 3.1],\n",
              "       [5.6, 3. ],\n",
              "       [5.8, 2.7],\n",
              "       [6.2, 2.2],\n",
              "       [5.6, 2.5],\n",
              "       [5.9, 3.2],\n",
              "       [6.1, 2.8],\n",
              "       [6.3, 2.5],\n",
              "       [6.1, 2.8],\n",
              "       [6.4, 2.9],\n",
              "       [6.6, 3. ],\n",
              "       [6.8, 2.8],\n",
              "       [6.7, 3. ],\n",
              "       [6. , 2.9],\n",
              "       [5.7, 2.6],\n",
              "       [5.5, 2.4],\n",
              "       [5.5, 2.4],\n",
              "       [5.8, 2.7],\n",
              "       [6. , 2.7],\n",
              "       [5.4, 3. ],\n",
              "       [6. , 3.4],\n",
              "       [6.7, 3.1],\n",
              "       [6.3, 2.3],\n",
              "       [5.6, 3. ],\n",
              "       [5.5, 2.5],\n",
              "       [5.5, 2.6],\n",
              "       [6.1, 3. ],\n",
              "       [5.8, 2.6],\n",
              "       [5. , 2.3],\n",
              "       [5.6, 2.7],\n",
              "       [5.7, 3. ],\n",
              "       [5.7, 2.9],\n",
              "       [6.2, 2.9],\n",
              "       [5.1, 2.5],\n",
              "       [5.7, 2.8],\n",
              "       [6.3, 3.3],\n",
              "       [5.8, 2.7],\n",
              "       [7.1, 3. ],\n",
              "       [6.3, 2.9],\n",
              "       [6.5, 3. ],\n",
              "       [7.6, 3. ],\n",
              "       [4.9, 2.5],\n",
              "       [7.3, 2.9],\n",
              "       [6.7, 2.5],\n",
              "       [7.2, 3.6],\n",
              "       [6.5, 3.2],\n",
              "       [6.4, 2.7],\n",
              "       [6.8, 3. ],\n",
              "       [5.7, 2.5],\n",
              "       [5.8, 2.8],\n",
              "       [6.4, 3.2],\n",
              "       [6.5, 3. ],\n",
              "       [7.7, 3.8],\n",
              "       [7.7, 2.6],\n",
              "       [6. , 2.2],\n",
              "       [6.9, 3.2],\n",
              "       [5.6, 2.8],\n",
              "       [7.7, 2.8],\n",
              "       [6.3, 2.7],\n",
              "       [6.7, 3.3],\n",
              "       [7.2, 3.2],\n",
              "       [6.2, 2.8],\n",
              "       [6.1, 3. ],\n",
              "       [6.4, 2.8],\n",
              "       [7.2, 3. ],\n",
              "       [7.4, 2.8],\n",
              "       [7.9, 3.8],\n",
              "       [6.4, 2.8],\n",
              "       [6.3, 2.8],\n",
              "       [6.1, 2.6],\n",
              "       [7.7, 3. ],\n",
              "       [6.3, 3.4],\n",
              "       [6.4, 3.1],\n",
              "       [6. , 3. ],\n",
              "       [6.9, 3.1],\n",
              "       [6.7, 3.1],\n",
              "       [6.9, 3.1],\n",
              "       [5.8, 2.7],\n",
              "       [6.8, 3.2],\n",
              "       [6.7, 3.3],\n",
              "       [6.7, 3. ],\n",
              "       [6.3, 2.5],\n",
              "       [6.5, 3. ],\n",
              "       [6.2, 3.4],\n",
              "       [5.9, 3. ]])"
            ]
          },
          "metadata": {
            "tags": []
          },
          "execution_count": 16
        }
      ]
    },
    {
      "cell_type": "code",
      "metadata": {
        "id": "uj9bRR_u08as",
        "colab_type": "code",
        "colab": {
          "base_uri": "https://localhost:8080/",
          "height": 221
        },
        "outputId": "9df9e14f-3304-4827-9bd0-259731f29bb9"
      },
      "source": [
        "X[:, 0] # Sepal Length of all flowers"
      ],
      "execution_count": 17,
      "outputs": [
        {
          "output_type": "execute_result",
          "data": {
            "text/plain": [
              "array([5.1, 4.9, 4.7, 4.6, 5. , 5.4, 4.6, 5. , 4.4, 4.9, 5.4, 4.8, 4.8,\n",
              "       4.3, 5.8, 5.7, 5.4, 5.1, 5.7, 5.1, 5.4, 5.1, 4.6, 5.1, 4.8, 5. ,\n",
              "       5. , 5.2, 5.2, 4.7, 4.8, 5.4, 5.2, 5.5, 4.9, 5. , 5.5, 4.9, 4.4,\n",
              "       5.1, 5. , 4.5, 4.4, 5. , 5.1, 4.8, 5.1, 4.6, 5.3, 5. , 7. , 6.4,\n",
              "       6.9, 5.5, 6.5, 5.7, 6.3, 4.9, 6.6, 5.2, 5. , 5.9, 6. , 6.1, 5.6,\n",
              "       6.7, 5.6, 5.8, 6.2, 5.6, 5.9, 6.1, 6.3, 6.1, 6.4, 6.6, 6.8, 6.7,\n",
              "       6. , 5.7, 5.5, 5.5, 5.8, 6. , 5.4, 6. , 6.7, 6.3, 5.6, 5.5, 5.5,\n",
              "       6.1, 5.8, 5. , 5.6, 5.7, 5.7, 6.2, 5.1, 5.7, 6.3, 5.8, 7.1, 6.3,\n",
              "       6.5, 7.6, 4.9, 7.3, 6.7, 7.2, 6.5, 6.4, 6.8, 5.7, 5.8, 6.4, 6.5,\n",
              "       7.7, 7.7, 6. , 6.9, 5.6, 7.7, 6.3, 6.7, 7.2, 6.2, 6.1, 6.4, 7.2,\n",
              "       7.4, 7.9, 6.4, 6.3, 6.1, 7.7, 6.3, 6.4, 6. , 6.9, 6.7, 6.9, 5.8,\n",
              "       6.8, 6.7, 6.7, 6.3, 6.5, 6.2, 5.9])"
            ]
          },
          "metadata": {
            "tags": []
          },
          "execution_count": 17
        }
      ]
    },
    {
      "cell_type": "code",
      "metadata": {
        "id": "XFScB3dH1Cpd",
        "colab_type": "code",
        "colab": {
          "base_uri": "https://localhost:8080/",
          "height": 221
        },
        "outputId": "b61543db-db39-469d-bc3d-0c68c994f530"
      },
      "source": [
        "X[:, 1] # Sepal Width of all flowers"
      ],
      "execution_count": 18,
      "outputs": [
        {
          "output_type": "execute_result",
          "data": {
            "text/plain": [
              "array([3.5, 3. , 3.2, 3.1, 3.6, 3.9, 3.4, 3.4, 2.9, 3.1, 3.7, 3.4, 3. ,\n",
              "       3. , 4. , 4.4, 3.9, 3.5, 3.8, 3.8, 3.4, 3.7, 3.6, 3.3, 3.4, 3. ,\n",
              "       3.4, 3.5, 3.4, 3.2, 3.1, 3.4, 4.1, 4.2, 3.1, 3.2, 3.5, 3.6, 3. ,\n",
              "       3.4, 3.5, 2.3, 3.2, 3.5, 3.8, 3. , 3.8, 3.2, 3.7, 3.3, 3.2, 3.2,\n",
              "       3.1, 2.3, 2.8, 2.8, 3.3, 2.4, 2.9, 2.7, 2. , 3. , 2.2, 2.9, 2.9,\n",
              "       3.1, 3. , 2.7, 2.2, 2.5, 3.2, 2.8, 2.5, 2.8, 2.9, 3. , 2.8, 3. ,\n",
              "       2.9, 2.6, 2.4, 2.4, 2.7, 2.7, 3. , 3.4, 3.1, 2.3, 3. , 2.5, 2.6,\n",
              "       3. , 2.6, 2.3, 2.7, 3. , 2.9, 2.9, 2.5, 2.8, 3.3, 2.7, 3. , 2.9,\n",
              "       3. , 3. , 2.5, 2.9, 2.5, 3.6, 3.2, 2.7, 3. , 2.5, 2.8, 3.2, 3. ,\n",
              "       3.8, 2.6, 2.2, 3.2, 2.8, 2.8, 2.7, 3.3, 3.2, 2.8, 3. , 2.8, 3. ,\n",
              "       2.8, 3.8, 2.8, 2.8, 2.6, 3. , 3.4, 3.1, 3. , 3.1, 3.1, 3.1, 2.7,\n",
              "       3.2, 3.3, 3. , 2.5, 3. , 3.4, 3. ])"
            ]
          },
          "metadata": {
            "tags": []
          },
          "execution_count": 18
        }
      ]
    },
    {
      "cell_type": "code",
      "metadata": {
        "id": "jEflodKl1Hq3",
        "colab_type": "code",
        "colab": {
          "base_uri": "https://localhost:8080/",
          "height": 221
        },
        "outputId": "a023d099-324e-41a4-a482-ac6ad8ddda23"
      },
      "source": [
        "X[:, 2] # Petal Length of all flowers"
      ],
      "execution_count": 19,
      "outputs": [
        {
          "output_type": "execute_result",
          "data": {
            "text/plain": [
              "array([1.4, 1.4, 1.3, 1.5, 1.4, 1.7, 1.4, 1.5, 1.4, 1.5, 1.5, 1.6, 1.4,\n",
              "       1.1, 1.2, 1.5, 1.3, 1.4, 1.7, 1.5, 1.7, 1.5, 1. , 1.7, 1.9, 1.6,\n",
              "       1.6, 1.5, 1.4, 1.6, 1.6, 1.5, 1.5, 1.4, 1.5, 1.2, 1.3, 1.4, 1.3,\n",
              "       1.5, 1.3, 1.3, 1.3, 1.6, 1.9, 1.4, 1.6, 1.4, 1.5, 1.4, 4.7, 4.5,\n",
              "       4.9, 4. , 4.6, 4.5, 4.7, 3.3, 4.6, 3.9, 3.5, 4.2, 4. , 4.7, 3.6,\n",
              "       4.4, 4.5, 4.1, 4.5, 3.9, 4.8, 4. , 4.9, 4.7, 4.3, 4.4, 4.8, 5. ,\n",
              "       4.5, 3.5, 3.8, 3.7, 3.9, 5.1, 4.5, 4.5, 4.7, 4.4, 4.1, 4. , 4.4,\n",
              "       4.6, 4. , 3.3, 4.2, 4.2, 4.2, 4.3, 3. , 4.1, 6. , 5.1, 5.9, 5.6,\n",
              "       5.8, 6.6, 4.5, 6.3, 5.8, 6.1, 5.1, 5.3, 5.5, 5. , 5.1, 5.3, 5.5,\n",
              "       6.7, 6.9, 5. , 5.7, 4.9, 6.7, 4.9, 5.7, 6. , 4.8, 4.9, 5.6, 5.8,\n",
              "       6.1, 6.4, 5.6, 5.1, 5.6, 6.1, 5.6, 5.5, 4.8, 5.4, 5.6, 5.1, 5.1,\n",
              "       5.9, 5.7, 5.2, 5. , 5.2, 5.4, 5.1])"
            ]
          },
          "metadata": {
            "tags": []
          },
          "execution_count": 19
        }
      ]
    },
    {
      "cell_type": "code",
      "metadata": {
        "id": "UzuIOM8m1N8s",
        "colab_type": "code",
        "colab": {
          "base_uri": "https://localhost:8080/",
          "height": 221
        },
        "outputId": "59b2dccc-76ee-4e46-a5d4-6e17dc19283f"
      },
      "source": [
        "X[:, 3] # Petal Width of all flowers"
      ],
      "execution_count": 20,
      "outputs": [
        {
          "output_type": "execute_result",
          "data": {
            "text/plain": [
              "array([0.2, 0.2, 0.2, 0.2, 0.2, 0.4, 0.3, 0.2, 0.2, 0.1, 0.2, 0.2, 0.1,\n",
              "       0.1, 0.2, 0.4, 0.4, 0.3, 0.3, 0.3, 0.2, 0.4, 0.2, 0.5, 0.2, 0.2,\n",
              "       0.4, 0.2, 0.2, 0.2, 0.2, 0.4, 0.1, 0.2, 0.2, 0.2, 0.2, 0.1, 0.2,\n",
              "       0.2, 0.3, 0.3, 0.2, 0.6, 0.4, 0.3, 0.2, 0.2, 0.2, 0.2, 1.4, 1.5,\n",
              "       1.5, 1.3, 1.5, 1.3, 1.6, 1. , 1.3, 1.4, 1. , 1.5, 1. , 1.4, 1.3,\n",
              "       1.4, 1.5, 1. , 1.5, 1.1, 1.8, 1.3, 1.5, 1.2, 1.3, 1.4, 1.4, 1.7,\n",
              "       1.5, 1. , 1.1, 1. , 1.2, 1.6, 1.5, 1.6, 1.5, 1.3, 1.3, 1.3, 1.2,\n",
              "       1.4, 1.2, 1. , 1.3, 1.2, 1.3, 1.3, 1.1, 1.3, 2.5, 1.9, 2.1, 1.8,\n",
              "       2.2, 2.1, 1.7, 1.8, 1.8, 2.5, 2. , 1.9, 2.1, 2. , 2.4, 2.3, 1.8,\n",
              "       2.2, 2.3, 1.5, 2.3, 2. , 2. , 1.8, 2.1, 1.8, 1.8, 1.8, 2.1, 1.6,\n",
              "       1.9, 2. , 2.2, 1.5, 1.4, 2.3, 2.4, 1.8, 1.8, 2.1, 2.4, 2.3, 1.9,\n",
              "       2.3, 2.5, 2.3, 1.9, 2. , 2.3, 1.8])"
            ]
          },
          "metadata": {
            "tags": []
          },
          "execution_count": 20
        }
      ]
    },
    {
      "cell_type": "code",
      "metadata": {
        "id": "exkEkK4L1Ueo",
        "colab_type": "code",
        "colab": {
          "base_uri": "https://localhost:8080/",
          "height": 85
        },
        "outputId": "bfa8b762-0c06-4340-e01d-50a7a07cfd81"
      },
      "source": [
        "#Filtering Condition\n",
        "X[y==0, 0] # Sepal Length of only setosa species"
      ],
      "execution_count": 34,
      "outputs": [
        {
          "output_type": "execute_result",
          "data": {
            "text/plain": [
              "array([5.1, 4.9, 4.7, 4.6, 5. , 5.4, 4.6, 5. , 4.4, 4.9, 5.4, 4.8, 4.8,\n",
              "       4.3, 5.8, 5.7, 5.4, 5.1, 5.7, 5.1, 5.4, 5.1, 4.6, 5.1, 4.8, 5. ,\n",
              "       5. , 5.2, 5.2, 4.7, 4.8, 5.4, 5.2, 5.5, 4.9, 5. , 5.5, 4.9, 4.4,\n",
              "       5.1, 5. , 4.5, 4.4, 5. , 5.1, 4.8, 5.1, 4.6, 5.3, 5. ])"
            ]
          },
          "metadata": {
            "tags": []
          },
          "execution_count": 34
        }
      ]
    },
    {
      "cell_type": "code",
      "metadata": {
        "id": "KMVbYmy92j1_",
        "colab_type": "code",
        "colab": {
          "base_uri": "https://localhost:8080/",
          "height": 85
        },
        "outputId": "ed4c046e-ba62-4f22-dcb3-514b4f6b5eb5"
      },
      "source": [
        "X[y==0, 1] # Sepal Width of only setosa species"
      ],
      "execution_count": 38,
      "outputs": [
        {
          "output_type": "execute_result",
          "data": {
            "text/plain": [
              "array([3.5, 3. , 3.2, 3.1, 3.6, 3.9, 3.4, 3.4, 2.9, 3.1, 3.7, 3.4, 3. ,\n",
              "       3. , 4. , 4.4, 3.9, 3.5, 3.8, 3.8, 3.4, 3.7, 3.6, 3.3, 3.4, 3. ,\n",
              "       3.4, 3.5, 3.4, 3.2, 3.1, 3.4, 4.1, 4.2, 3.1, 3.2, 3.5, 3.6, 3. ,\n",
              "       3.4, 3.5, 2.3, 3.2, 3.5, 3.8, 3. , 3.8, 3.2, 3.7, 3.3])"
            ]
          },
          "metadata": {
            "tags": []
          },
          "execution_count": 38
        }
      ]
    },
    {
      "cell_type": "code",
      "metadata": {
        "id": "8vCovVI72qYE",
        "colab_type": "code",
        "colab": {
          "base_uri": "https://localhost:8080/",
          "height": 85
        },
        "outputId": "290caa92-c801-4b36-87a8-048900971821"
      },
      "source": [
        "X[y==1, 1] # Sepal Width of only versicolor species"
      ],
      "execution_count": 36,
      "outputs": [
        {
          "output_type": "execute_result",
          "data": {
            "text/plain": [
              "array([3.2, 3.2, 3.1, 2.3, 2.8, 2.8, 3.3, 2.4, 2.9, 2.7, 2. , 3. , 2.2,\n",
              "       2.9, 2.9, 3.1, 3. , 2.7, 2.2, 2.5, 3.2, 2.8, 2.5, 2.8, 2.9, 3. ,\n",
              "       2.8, 3. , 2.9, 2.6, 2.4, 2.4, 2.7, 2.7, 3. , 3.4, 3.1, 2.3, 3. ,\n",
              "       2.5, 2.6, 3. , 2.6, 2.3, 2.7, 3. , 2.9, 2.9, 2.5, 2.8])"
            ]
          },
          "metadata": {
            "tags": []
          },
          "execution_count": 36
        }
      ]
    },
    {
      "cell_type": "code",
      "metadata": {
        "id": "NVyrSL1i2ylj",
        "colab_type": "code",
        "colab": {
          "base_uri": "https://localhost:8080/",
          "height": 85
        },
        "outputId": "0ec32d5b-f3da-40a5-fb47-72b877f38d81"
      },
      "source": [
        "X[y==2, 3] # Petal Width of only virginica species"
      ],
      "execution_count": 37,
      "outputs": [
        {
          "output_type": "execute_result",
          "data": {
            "text/plain": [
              "array([2.5, 1.9, 2.1, 1.8, 2.2, 2.1, 1.7, 1.8, 1.8, 2.5, 2. , 1.9, 2.1,\n",
              "       2. , 2.4, 2.3, 1.8, 2.2, 2.3, 1.5, 2.3, 2. , 2. , 1.8, 2.1, 1.8,\n",
              "       1.8, 1.8, 2.1, 1.6, 1.9, 2. , 2.2, 1.5, 1.4, 2.3, 2.4, 1.8, 1.8,\n",
              "       2.1, 2.4, 2.3, 1.9, 2.3, 2.5, 2.3, 1.9, 2. , 2.3, 1.8])"
            ]
          },
          "metadata": {
            "tags": []
          },
          "execution_count": 37
        }
      ]
    },
    {
      "cell_type": "code",
      "metadata": {
        "id": "22M7rXpz3Bqa",
        "colab_type": "code",
        "colab": {
          "base_uri": "https://localhost:8080/",
          "height": 295
        },
        "outputId": "6beb338a-ef37-4744-b649-45460a629904"
      },
      "source": [
        "plt.scatter(X[y==0, 0], X[y==0, 1], c=\"r\", label=\"setosa\")\n",
        "plt.scatter(X[y==1, 0], X[y==1, 1], c=\"g\", label=\"versicolor\")\n",
        "plt.scatter(X[y==2, 0], X[y==2, 1], c=\"b\", label=\"virginica\")\n",
        "plt.legend()\n",
        "plt.xlabel('Sepal Length')\n",
        "plt.ylabel('Sepal Width')\n",
        "plt.title('Analysis on the IRIS Dataset')\n",
        "plt.show()"
      ],
      "execution_count": 39,
      "outputs": [
        {
          "output_type": "display_data",
          "data": {
            "image/png": "[encoded data removed]",
            "text/plain": [
              "<Figure size 432x288 with 1 Axes>"
            ]
          },
          "metadata": {
            "tags": [],
            "needs_background": "light"
          }
        }
      ]
    },
    {
      "cell_type": "markdown",
      "metadata": {
        "id": "sHJ0zn2p4IAG",
        "colab_type": "text"
      },
      "source": [
        "Sepal Length and Sepal Width are not good predictors"
      ]
    },
    {
      "cell_type": "code",
      "metadata": {
        "id": "GM_E8w3Y30FV",
        "colab_type": "code",
        "colab": {
          "base_uri": "https://localhost:8080/",
          "height": 295
        },
        "outputId": "2e7a242d-d51b-4475-f664-ce107c26d444"
      },
      "source": [
        "plt.scatter(X[y==0, 2], X[y==0, 3], c=\"r\", label=\"setosa\")\n",
        "plt.scatter(X[y==1, 2], X[y==1, 3], c=\"g\", label=\"versicolor\")\n",
        "plt.scatter(X[y==2, 2], X[y==2, 3], c=\"b\", label=\"virginica\")\n",
        "plt.legend()\n",
        "plt.xlabel('Petal Length')\n",
        "plt.ylabel('Petal Width')\n",
        "plt.title('Analysis on the IRIS Dataset')\n",
        "plt.show()"
      ],
      "execution_count": 40,
      "outputs": [
        {
          "output_type": "display_data",
          "data": {
            "image/png": "[encoded data removed]",
            "text/plain": [
              "<Figure size 432x288 with 1 Axes>"
            ]
          },
          "metadata": {
            "tags": [],
            "needs_background": "light"
          }
        }
      ]
    },
    {
      "cell_type": "markdown",
      "metadata": {
        "id": "rh9icVy74cvy",
        "colab_type": "text"
      },
      "source": [
        "Petal Length and Petal Width are good predictors"
      ]
    },
    {
      "cell_type": "code",
      "metadata": {
        "id": "xR6ukUMB4g2b",
        "colab_type": "code",
        "colab": {
          "base_uri": "https://localhost:8080/",
          "height": 295
        },
        "outputId": "0fda3f17-3f4a-4225-cafb-6ab6298a0033"
      },
      "source": [
        "# Task\n",
        "plt.scatter(X[y==0, 0], X[y==0, 2], c=\"r\", label=\"setosa\")\n",
        "plt.scatter(X[y==1, 0], X[y==1, 2], c=\"g\", label=\"versicolor\")\n",
        "plt.scatter(X[y==2, 0], X[y==2, 2], c=\"b\", label=\"virginica\")\n",
        "plt.legend()\n",
        "plt.xlabel('Sepal Length')\n",
        "plt.ylabel('Petal Length')\n",
        "plt.title('Analysis on the IRIS Dataset')\n",
        "plt.show()"
      ],
      "execution_count": 41,
      "outputs": [
        {
          "output_type": "display_data",
          "data": {
            "image/png": "[encoded data removed]",
            "text/plain": [
              "<Figure size 432x288 with 1 Axes>"
            ]
          },
          "metadata": {
            "tags": [],
            "needs_background": "light"
          }
        }
      ]
    }
  ]
}